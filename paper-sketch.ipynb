{
 "cells": [
  {
   "cell_type": "code",
   "execution_count": 1,
   "metadata": {
    "collapsed": false
   },
   "outputs": [],
   "source": [
    "import matplotlib as mpl \n",
    "mpl.use(\"pgf\") \n",
    "pgf_with_rc_fonts = {\n",
    "    \"font.serif\": [],\n",
    "}\n",
    "\n",
    "import numpy as np\n",
    "import pandas as pd\n",
    "\n",
    "%matplotlib inline\n",
    "import matplotlib.pyplot as plt\n",
    "from matplotlib import gridspec\n",
    "\n",
    "mpl.rcParams['pdf.fonttype'] = 42\n",
    "mpl.rcParams['ps.fonttype'] = 42\n",
    "mpl.rcParams['axes.labelsize'] = 'large'\n",
    "mpl.rcParams['axes.facecolor'] = 'w'"
   ]
  },
  {
   "cell_type": "code",
   "execution_count": 2,
   "metadata": {
    "collapsed": true
   },
   "outputs": [],
   "source": [
    "%load_ext autoreload\n",
    "%autoreload 2\n",
    "from experiment import Runner"
   ]
  },
  {
   "cell_type": "code",
   "execution_count": 3,
   "metadata": {
    "collapsed": false
   },
   "outputs": [
    {
     "name": "stderr",
     "output_type": "stream",
     "text": [
      "[7735] [exp] click | window_size = 5000, n_epoch = 1\n",
      "[7735] [exp] n_sample = 3570; 714 (20%) + 357 (10%) + 2499 (70%)\n",
      "[7735] [exp] n_user = 3570, n_item = 5\n"
     ]
    }
   ],
   "source": [
    "exp_click = Runner(dataset='click', params={})"
   ]
  },
  {
   "cell_type": "code",
   "execution_count": 4,
   "metadata": {
    "collapsed": false
   },
   "outputs": [
    {
     "name": "stderr",
     "output_type": "stream",
     "text": [
      "[7735] [exp] ML100k | window_size = 5000, n_epoch = 1\n",
      "[7735] [exp] n_sample = 21201; 4240 (20%) + 2120 (10%) + 14841 (70%)\n",
      "[7735] [exp] n_user = 928, n_item = 1172\n"
     ]
    }
   ],
   "source": [
    "exp_ML100k = Runner(dataset='ML100k', params={})"
   ]
  },
  {
   "cell_type": "markdown",
   "metadata": {},
   "source": [
    "### prepare"
   ]
  },
  {
   "cell_type": "code",
   "execution_count": 5,
   "metadata": {
    "collapsed": true
   },
   "outputs": [],
   "source": [
    "# http://public.tableau.com/profile/chris.gerrard#!/vizhome/TableauColors/ColorPaletteswithRGBValues\n",
    "colors = [(31, 119, 180), (174, 199, 232), (255, 127, 14), (255, 187, 120),\n",
    "          (44, 160, 44), (152, 223, 138), (214, 39, 40), (255, 152, 150),  \n",
    "          (148, 103, 189), (197, 176, 213), (140, 86, 75), (196, 156, 148),   \n",
    "          (227, 119, 194), (247, 182, 210), (127, 127, 127), (199, 199, 199),\n",
    "          (188, 189, 34), (219, 219, 141), (23, 190, 207), (158, 218, 229)]\n",
    "\n",
    "# [0, 255] -> [0.0, 1.0]\n",
    "for i in range(len(colors)): \n",
    "    r, g, b = colors[i]    \n",
    "    colors[i] = (r / 255., g / 255., b / 255.) "
   ]
  },
  {
   "cell_type": "code",
   "execution_count": 6,
   "metadata": {
    "collapsed": true
   },
   "outputs": [],
   "source": [
    "def read_result(dirname, dataset, method, T, n_trial):\n",
    "    t_reco = t_update = 0.\n",
    "    recalls = []\n",
    "    MPRs = []\n",
    "    \n",
    "    if type(n_trial) == str:  # read a specific trial\n",
    "        path = dirname + '/' + '_'.join([dataset, method, T, n_trial]) + '.txt'\n",
    "        with open(path) as f:\n",
    "            lines = list(map(lambda l: float(l.rstrip()), f.readlines()))\n",
    "            recalls = lines[3:]\n",
    "        return recalls \n",
    "    \n",
    "    for trial in range(1, n_trial + 1):\n",
    "        path = dirname + '/' + '_'.join([dataset, method, T, str(trial)]) + '.txt'\n",
    "        with open(path) as f:\n",
    "            lines = list(map(lambda l: float(l.rstrip()), f.readlines()))\n",
    "            t_reco += lines[0]\n",
    "            t_update += lines[1]\n",
    "            MPRs.append(lines[2])\n",
    "            recalls.append(lines[3:])\n",
    "            \n",
    "    return {'t_reco': t_reco / n_trial, 't_update': t_update / n_trial, 'MPRs': MPRs, 'recalls': recalls}"
   ]
  },
  {
   "cell_type": "code",
   "execution_count": 7,
   "metadata": {
    "collapsed": true
   },
   "outputs": [],
   "source": [
    "def show_results(MF, iMF, FMs, iFMs, sketch):\n",
    "    print('static MF')\n",
    "    print('=========')\n",
    "    print('avg. reco time      = %.5f' % MF['t_reco'])\n",
    "    print('avg. update time    = ---') \n",
    "    print('MPR   : mean (±std) = %.2f (±%.3f)' % (np.mean(MF['MPRs']), np.std(MF['MPRs'])))\n",
    "    print('recall: mean (±std) = %.3f (±%.3f)' % (np.mean(MF['recalls']), np.std(MF['recalls'])))\n",
    "    print()\n",
    "    \n",
    "    print('iMF')\n",
    "    print('===')\n",
    "    print('avg. reco time      = %.5f' % iMF['t_reco'])\n",
    "    print('avg. update time    = %.5f' % iMF['t_update']) \n",
    "    print('MPR   : mean (±std) = %.2f (±%.3f)' % (np.mean(iMF['MPRs']), np.std(iMF['MPRs'])))\n",
    "    print('recall: mean (±std) = %.3f (±%.3f)' % (np.mean(iMF['recalls']), np.std(iMF['recalls'])))\n",
    "    print()\n",
    "    \n",
    "    print('static FMs')\n",
    "    print('==========')\n",
    "    print('avg. reco time      = %.5f' % FMs['t_reco'])\n",
    "    print('avg. update time    = ---') \n",
    "    print('MPR   : mean (±std) = %.2f (±%.3f)' % (np.mean(FMs['MPRs']), np.std(FMs['MPRs'])))\n",
    "    print('recall: mean (±std) = %.3f (±%.3f)' % (np.mean(FMs['recalls']), np.std(FMs['recalls'])))\n",
    "    print()\n",
    "    \n",
    "    print('iFMs')\n",
    "    print('====')\n",
    "    print('avg. reco time      = %.5f' % iFMs['t_reco'])\n",
    "    print('avg. update time    = %.5f' % iFMs['t_update']) \n",
    "    print('MPR   : mean (±std) = %.2f (±%.3f)' % (np.mean(iFMs['MPRs']), np.std(iFMs['MPRs'])))\n",
    "    print('recall: mean (±std) = %.3f (±%.3f)' % (np.mean(iFMs['recalls']), np.std(iFMs['recalls'])))\n",
    "    print()\n",
    "    \n",
    "    print('Sketch')\n",
    "    print('======')\n",
    "    print('avg. reco time      = %.5f' % sketch['t_reco'])\n",
    "    print('avg. update time    = %.5f' % sketch['t_update']) \n",
    "    print('MPR   : mean (±std) = %.2f (±%.3f)' % (np.mean(sketch['MPRs']), np.std(sketch['MPRs'])))\n",
    "    print('recall: mean (±std) = %.3f (±%.3f)' % (np.mean(sketch['recalls']), np.std(sketch['recalls'])))\n",
    "    print()"
   ]
  },
  {
   "cell_type": "code",
   "execution_count": 246,
   "metadata": {
    "collapsed": true
   },
   "outputs": [],
   "source": [
    "def plot(name, exp, MF, iMF, FMs, iFMs, sketch, N=10, T=5000):\n",
    "\n",
    "    # plot incremental recall\n",
    "    offset = exp.data.n_batch_train + exp.data.n_batch_test\n",
    "    x = np.arange(exp.data.n_sample - offset) + offset\n",
    "\n",
    "    every = int(exp.data.n_test / 8)\n",
    "\n",
    "    # best = np.argsort([sum(l) for l in MF['recalls']])[-1]\n",
    "    # plt.plot(x, MF['recalls'][best], c=colors[4], label='static MF\\n(%.1f%%)' % MF['MPRs'][best], ms=8., mfc='none', marker='s', mew=1.2, mec=colors[4], markevery=(int(every/2), every))\n",
    "\n",
    "    best = np.argsort([sum(l) for l in iMF['recalls']])[-1]\n",
    "    plt.plot(x, iMF['recalls'][best], c=colors[0], label='iMF\\n(%.1f%%)' % iMF['MPRs'][best], ms=8., marker='s', mew=0, markevery=(int(every/2), every))\n",
    "    \n",
    "    # best = np.argsort([sum(l) for l in FMs['recalls']])[-1]\n",
    "    # plt.plot(x, FMs['recalls'][best], c=colors[2], label='static FMs\\n(%.1f%%)' % FMs['MPRs'][best], ms=10., mfc='none', marker='^', mew=1.2, mec=colors[2], markevery=every)\n",
    "    \n",
    "    best = np.argsort([sum(l) for l in iFMs['recalls']])[-1]\n",
    "    plt.plot(x, iFMs['recalls'][best], c=colors[4], label='iFMs\\n(%.1f%%)' % iFMs['MPRs'][best], marker='^', ms=10., mew=0, markevery=every)\n",
    "    \n",
    "    best = np.argsort([sum(l) for l in sketch['recalls']])[-1]\n",
    "    plt.plot(x, sketch['recalls'][best], c=colors[6], label='sketch\\n(%.1f%%)' % sketch['MPRs'][best], marker='o', ms=8., mew=0, markevery=every)\n",
    "    \n",
    "    plt.xlabel(r'old $\\leftarrow$ sample index $\\rightarrow$ new', fontsize=11)\n",
    "    plt.ylabel('recall@N / T', fontsize=11)\n",
    "    \n",
    "    ax = plt.gca()\n",
    "    ax.yaxis.grid(True)\n",
    "    ax.patch.set_visible(False)\n",
    "    \n",
    "    plt.yticks([0.00, 0.025, 0.05, 0.075, 0.10, 0.125, 0.15])\n",
    "    plt.ylim([0.0, 0.15])\n",
    "     \n",
    "    # head-of-evaluate | first T samples (1st window)\n",
    "    ax.axvline(x=(offset - 1 + T - 1), linewidth=1, linestyle=':', color=colors[14])\n",
    "    \n",
    "    fig = plt.gcf()\n",
    "    fig.set_size_inches((5.5, 3))\n",
    "    fig.patch.set_alpha(0.0)\n",
    "    \n",
    "    plt.title('%s (N = %d, T = %d)' % (name, N, T), fontweight='bold')\n",
    "    plt.xlim((0, exp.data.n_sample - 1))\n",
    "    \n",
    "    plt.tight_layout()"
   ]
  },
  {
   "cell_type": "markdown",
   "metadata": {
    "collapsed": false
   },
   "source": [
    "## Synthetic click"
   ]
  },
  {
   "cell_type": "code",
   "execution_count": 177,
   "metadata": {
    "collapsed": false
   },
   "outputs": [],
   "source": [
    "## FMs\n",
    "click_staticFMs = read_result('results/recprofile/click', 'click', 'static-FMs', '500', 5)\n",
    "click_iFMs = read_result('results/recprofile/click', 'click', 'iFMs', '500', 5)\n",
    "\n",
    "## MF\n",
    "click_staticMF = read_result('results/recprofile/click', 'click', 'static-MF', '500', 5)\n",
    "click_iMF = read_result('results/recprofile/click', 'click', 'iMF', '500', 5)\n",
    "\n",
    "## sketch\n",
    "click_sketch = read_result('results', 'click', 'sketch', '500', 5)"
   ]
  },
  {
   "cell_type": "code",
   "execution_count": 252,
   "metadata": {
    "collapsed": false
   },
   "outputs": [
    {
     "name": "stdout",
     "output_type": "stream",
     "text": [
      "static MF\n",
      "=========\n",
      "avg. reco time      = 0.00002\n",
      "avg. update time    = ---\n",
      "MPR   : mean (±std) = 54.59 (±4.386)\n",
      "recall: mean (±std) = 0.271 (±0.248)\n",
      "\n",
      "iMF\n",
      "===\n",
      "avg. reco time      = 0.00002\n",
      "avg. update time    = 0.00003\n",
      "MPR   : mean (±std) = 49.24 (±2.254)\n",
      "recall: mean (±std) = 0.316 (±0.213)\n",
      "\n",
      "static FMs\n",
      "==========\n",
      "avg. reco time      = 0.00325\n",
      "avg. update time    = ---\n",
      "MPR   : mean (±std) = 37.83 (±3.385)\n",
      "recall: mean (±std) = 0.271 (±0.248)\n",
      "\n",
      "iFMs\n",
      "====\n",
      "avg. reco time      = 0.00315\n",
      "avg. update time    = 0.00026\n",
      "MPR   : mean (±std) = 34.26 (±1.429)\n",
      "recall: mean (±std) = 0.316 (±0.208)\n",
      "\n",
      "Sketch\n",
      "======\n",
      "avg. reco time      = 0.00188\n",
      "avg. update time    = 0.00032\n",
      "MPR   : mean (±std) = 27.88 (±0.000)\n",
      "recall: mean (±std) = 0.348 (±0.247)\n",
      "\n"
     ]
    },
    {
     "data": {
      "image/png": "[encoded data removed]",
      "text/plain": [
       "<matplotlib.figure.Figure at 0x10ce84978>"
      ]
     },
     "metadata": {},
     "output_type": "display_data"
    }
   ],
   "source": [
    "fig = plt.figure()\n",
    "\n",
    "plot('Synthetic click', exp_click, click_staticMF, click_iMF, click_staticFMs, click_iFMs, click_sketch, N=1, T=500)\n",
    "\n",
    "plt.yticks([.15, .30, .45, .60, .75])\n",
    "plt.ylim([0.0, .75])\n",
    "plt.legend(frameon=False, loc='upper left', fontsize=11)\n",
    "\n",
    "plt.annotate(r'changed a rule', \n",
    "             xy=(1800, 0.55), xytext=(1100, 0.2), \n",
    "             size=11, color='k', arrowprops=dict(color='k', lw=1., arrowstyle='-|>'))\n",
    "\n",
    "fig.set_size_inches((5.5, 2.8))\n",
    "plt.tight_layout()\n",
    "\n",
    "show_results(click_staticMF, click_iMF, click_staticFMs, click_iFMs, click_sketch)\n",
    "\n",
    "fig.savefig('../../paper/images/icmla-2016/click_result.eps')"
   ]
  },
  {
   "cell_type": "markdown",
   "metadata": {
    "collapsed": false
   },
   "source": [
    "## ML100k"
   ]
  },
  {
   "cell_type": "code",
   "execution_count": 249,
   "metadata": {
    "collapsed": false
   },
   "outputs": [],
   "source": [
    "## FMs\n",
    "ML100k_staticFMs = read_result('results/recprofile/ML100k', 'ML100k', 'static-FMs', '3000', 5)\n",
    "ML100k_iFMs = read_result('results/recprofile/ML100k', 'ML100k', 'iFMs', '3000', 5)\n",
    "\n",
    "## MF\n",
    "ML100k_staticMF = read_result('results/recprofile/ML100k', 'ML100k', 'static-MF', '3000', 5)\n",
    "ML100k_iMF = read_result('results/recprofile/ML100k', 'ML100k', 'iMF', '3000', 5)\n",
    "\n",
    "## Sketch\n",
    "ML100k_sketch = read_result('results', 'ML100k', 'sketch', '3000', 1)"
   ]
  },
  {
   "cell_type": "code",
   "execution_count": 253,
   "metadata": {
    "collapsed": false
   },
   "outputs": [
    {
     "name": "stdout",
     "output_type": "stream",
     "text": [
      "static MF\n",
      "=========\n",
      "avg. reco time      = 0.00016\n",
      "avg. update time    = ---\n",
      "MPR   : mean (±std) = 49.68 (±0.320)\n",
      "recall: mean (±std) = 0.021 (±0.004)\n",
      "\n",
      "iMF\n",
      "===\n",
      "avg. reco time      = 0.00015\n",
      "avg. update time    = 0.00003\n",
      "MPR   : mean (±std) = 47.32 (±0.359)\n",
      "recall: mean (±std) = 0.026 (±0.006)\n",
      "\n",
      "static FMs\n",
      "==========\n",
      "avg. reco time      = 0.02427\n",
      "avg. update time    = ---\n",
      "MPR   : mean (±std) = 36.07 (±0.127)\n",
      "recall: mean (±std) = 0.023 (±0.008)\n",
      "\n",
      "iFMs\n",
      "====\n",
      "avg. reco time      = 0.02449\n",
      "avg. update time    = 0.00150\n",
      "MPR   : mean (±std) = 32.55 (±0.023)\n",
      "recall: mean (±std) = 0.035 (±0.008)\n",
      "\n",
      "Sketch\n",
      "======\n",
      "avg. reco time      = 0.00665\n",
      "avg. update time    = 0.00037\n",
      "MPR   : mean (±std) = 47.86 (±0.000)\n",
      "recall: mean (±std) = 0.032 (±0.008)\n",
      "\n"
     ]
    },
    {
     "data": {
      "image/png": "[encoded data removed]",
      "text/plain": [
       "<matplotlib.figure.Figure at 0x10bbac9b0>"
      ]
     },
     "metadata": {},
     "output_type": "display_data"
    }
   ],
   "source": [
    "fig = plt.figure()\n",
    "\n",
    "plot('ML100k', exp_ML100k, ML100k_staticMF, ML100k_iMF, ML100k_staticFMs, ML100k_iFMs, ML100k_sketch, N=10, T=3000)\n",
    "\n",
    "plt.yticks([0.00, 0.01, 0.02, 0.03, 0.04, 0.05])\n",
    "plt.ylim([0.0, 0.05])\n",
    "plt.legend(frameon=False, loc='upper left', fontsize=11)\n",
    "\n",
    "head = exp_ML100k.data.n_batch_train + exp_ML100k.data.n_batch_test\n",
    "plt.annotate(r'first $T$ samples', \n",
    "             xy=(head, 0.005), xytext=(head + 3400, 0.0035), \n",
    "             size=11, color='k', arrowprops=dict(color='k', lw=1., arrowstyle='<|-|>'))\n",
    "\n",
    "fig.set_size_inches((5.5, 2.8))\n",
    "plt.tight_layout()\n",
    "\n",
    "\n",
    "show_results(ML100k_staticMF, ML100k_iMF, ML100k_staticFMs, ML100k_iFMs, ML100k_sketch)\n",
    "\n",
    "fig.savefig('../../paper/images/icmla-2016/ml100k_result.eps')"
   ]
  },
  {
   "cell_type": "markdown",
   "metadata": {},
   "source": [
    "## ML1M"
   ]
  },
  {
   "cell_type": "code",
   "execution_count": 199,
   "metadata": {
    "collapsed": true
   },
   "outputs": [],
   "source": [
    "## MF\n",
    "ML1M_iMF = read_result('results/recprofile/ML1M', 'ML1M', 'iMF', '9000', 1)\n",
    "\n",
    "## Sketch\n",
    "ML1M_sketch = read_result('results', 'ML1M', 'sketch', '9000', 1)"
   ]
  },
  {
   "cell_type": "code",
   "execution_count": 234,
   "metadata": {
    "collapsed": false
   },
   "outputs": [
    {
     "name": "stdout",
     "output_type": "stream",
     "text": [
      "[0.0] [40.7561113243]\n"
     ]
    },
    {
     "data": {
      "text/plain": [
       "<matplotlib.legend.Legend at 0x10af85828>"
      ]
     },
     "execution_count": 234,
     "metadata": {},
     "output_type": "execute_result"
    },
    {
     "data": {
      "image/png": "[encoded data removed]",
      "text/plain": [
       "<matplotlib.figure.Figure at 0x10a8f23c8>"
      ]
     },
     "metadata": {},
     "output_type": "display_data"
    }
   ],
   "source": [
    "print(ML1M_iMF['MPRs'], ML1M_sketch['MPRs'])\n",
    "\n",
    "plt.plot(ML1M_iMF['recalls'][0], label='iMF')\n",
    "plt.plot(ML1M_sketch['recalls'][0], label='sketch')\n",
    "\n",
    "plt.legend()"
   ]
  },
  {
   "cell_type": "markdown",
   "metadata": {},
   "source": [
    "## Experiments on different $\\ell$"
   ]
  },
  {
   "cell_type": "code",
   "execution_count": 73,
   "metadata": {
    "collapsed": true
   },
   "outputs": [],
   "source": [
    "from converter.converter import Converter\n",
    "from core.online_sketch import OnlineSketch"
   ]
  },
  {
   "cell_type": "markdown",
   "metadata": {},
   "source": [
    "### ML100k"
   ]
  },
  {
   "cell_type": "code",
   "execution_count": 268,
   "metadata": {
    "collapsed": true
   },
   "outputs": [],
   "source": [
    "data = Converter().convert(dataset='ML100k')\n",
    "batch_tail = data.n_batch_train + data.n_batch_test"
   ]
  },
  {
   "cell_type": "code",
   "execution_count": 269,
   "metadata": {
    "collapsed": false
   },
   "outputs": [
    {
     "data": {
      "text/plain": [
       "(73, 8)"
      ]
     },
     "execution_count": 269,
     "metadata": {},
     "output_type": "execute_result"
    }
   ],
   "source": [
    "p = np.sum(list(data.contexts.values()))\n",
    "ell_bound = int(np.sqrt(p))\n",
    "p, ell_bound"
   ]
  },
  {
   "cell_type": "code",
   "execution_count": 184,
   "metadata": {
    "collapsed": false
   },
   "outputs": [
    {
     "name": "stdout",
     "output_type": "stream",
     "text": [
      "1\n"
     ]
    },
    {
     "name": "stderr",
     "output_type": "stream",
     "text": [
      "[7735] epoch  1: recall@10 = 0.007075\n",
      "[7735] epoch  1: recall@10 = 0.007075\n",
      "[7735] [0.0, 0.00141509433962, 0.00283018867925, 0.00424528301887, 0.00424528301887, 0.00424528301887, 0.00518867924528, 0.00566037735849, 0.00660377358491, 0.00707547169811]\n",
      "[7735] [0.0, 0.00141509433962, 0.00283018867925, 0.00424528301887, 0.00424528301887, 0.00424528301887, 0.00518867924528, 0.00566037735849, 0.00660377358491, 0.00707547169811]\n"
     ]
    },
    {
     "name": "stdout",
     "output_type": "stream",
     "text": [
      "2\n"
     ]
    },
    {
     "name": "stderr",
     "output_type": "stream",
     "text": [
      "[7735] epoch  1: recall@10 = 0.012264\n",
      "[7735] epoch  1: recall@10 = 0.012264\n",
      "[7735] [0.00188679245283, 0.00424528301887, 0.00518867924528, 0.00566037735849, 0.00566037735849, 0.00707547169811, 0.00707547169811, 0.00801886792453, 0.00990566037736, 0.0122641509434]\n",
      "[7735] [0.00188679245283, 0.00424528301887, 0.00518867924528, 0.00566037735849, 0.00566037735849, 0.00707547169811, 0.00707547169811, 0.00801886792453, 0.00990566037736, 0.0122641509434]\n"
     ]
    },
    {
     "name": "stdout",
     "output_type": "stream",
     "text": [
      "3\n"
     ]
    },
    {
     "name": "stderr",
     "output_type": "stream",
     "text": [
      "[7735] epoch  1: recall@10 = 0.015094\n",
      "[7735] epoch  1: recall@10 = 0.015094\n",
      "[7735] [0.00471698113208, 0.0061320754717, 0.00896226415094, 0.00990566037736, 0.011320754717, 0.0117924528302, 0.0122641509434, 0.013679245283, 0.0141509433962, 0.0150943396226]\n",
      "[7735] [0.00471698113208, 0.0061320754717, 0.00896226415094, 0.00990566037736, 0.011320754717, 0.0117924528302, 0.0122641509434, 0.013679245283, 0.0141509433962, 0.0150943396226]\n"
     ]
    },
    {
     "name": "stdout",
     "output_type": "stream",
     "text": [
      "4\n"
     ]
    },
    {
     "name": "stderr",
     "output_type": "stream",
     "text": [
      "[7735] epoch  1: recall@10 = 0.039151\n",
      "[7735] epoch  1: recall@10 = 0.039151\n",
      "[7735] [0.0117924528302, 0.0235849056604, 0.0311320754717, 0.0334905660377, 0.0339622641509, 0.0349056603774, 0.0353773584906, 0.0372641509434, 0.0372641509434, 0.0391509433962]\n",
      "[7735] [0.0117924528302, 0.0235849056604, 0.0311320754717, 0.0334905660377, 0.0339622641509, 0.0349056603774, 0.0353773584906, 0.0372641509434, 0.0372641509434, 0.0391509433962]\n"
     ]
    },
    {
     "name": "stdout",
     "output_type": "stream",
     "text": [
      "5\n"
     ]
    },
    {
     "name": "stderr",
     "output_type": "stream",
     "text": [
      "[7735] epoch  1: recall@10 = 0.044811\n",
      "[7735] epoch  1: recall@10 = 0.044811\n",
      "[7735] [0.0122641509434, 0.0221698113208, 0.0330188679245, 0.036320754717, 0.0391509433962, 0.0419811320755, 0.0433962264151, 0.0443396226415, 0.0443396226415, 0.0448113207547]\n",
      "[7735] [0.0122641509434, 0.0221698113208, 0.0330188679245, 0.036320754717, 0.0391509433962, 0.0419811320755, 0.0433962264151, 0.0443396226415, 0.0443396226415, 0.0448113207547]\n"
     ]
    },
    {
     "name": "stdout",
     "output_type": "stream",
     "text": [
      "6\n"
     ]
    },
    {
     "name": "stderr",
     "output_type": "stream",
     "text": [
      "[7735] epoch  1: recall@10 = 0.039151\n",
      "[7735] epoch  1: recall@10 = 0.039151\n",
      "[7735] [0.0127358490566, 0.025, 0.0301886792453, 0.0316037735849, 0.0334905660377, 0.0344339622642, 0.0358490566038, 0.0367924528302, 0.038679245283, 0.0391509433962]\n",
      "[7735] [0.0127358490566, 0.025, 0.0301886792453, 0.0316037735849, 0.0334905660377, 0.0344339622642, 0.0358490566038, 0.0367924528302, 0.038679245283, 0.0391509433962]\n"
     ]
    },
    {
     "name": "stdout",
     "output_type": "stream",
     "text": [
      "7\n"
     ]
    },
    {
     "name": "stderr",
     "output_type": "stream",
     "text": [
      "[7735] epoch  1: recall@10 = 0.040566\n",
      "[7735] epoch  1: recall@10 = 0.040566\n",
      "[7735] [0.0150943396226, 0.0216981132075, 0.0292452830189, 0.0320754716981, 0.0330188679245, 0.0353773584906, 0.0377358490566, 0.0391509433962, 0.0396226415094, 0.0405660377358]\n",
      "[7735] [0.0150943396226, 0.0216981132075, 0.0292452830189, 0.0320754716981, 0.0330188679245, 0.0353773584906, 0.0377358490566, 0.0391509433962, 0.0396226415094, 0.0405660377358]\n"
     ]
    },
    {
     "name": "stdout",
     "output_type": "stream",
     "text": [
      "8\n"
     ]
    },
    {
     "name": "stderr",
     "output_type": "stream",
     "text": [
      "[7735] epoch  1: recall@10 = 0.040094\n",
      "[7735] epoch  1: recall@10 = 0.040094\n",
      "[7735] [0.0160377358491, 0.025, 0.0311320754717, 0.0325471698113, 0.0353773584906, 0.036320754717, 0.0372641509434, 0.0382075471698, 0.038679245283, 0.0400943396226]\n",
      "[7735] [0.0160377358491, 0.025, 0.0311320754717, 0.0325471698113, 0.0353773584906, 0.036320754717, 0.0372641509434, 0.0382075471698, 0.038679245283, 0.0400943396226]\n"
     ]
    }
   ],
   "source": [
    "d = {}\n",
    "\n",
    "for ell in range(1, ell_bound + 1):\n",
    "    print(ell)\n",
    "    r = OnlineSketch(contexts=data.contexts, k=p, ell=ell, proj='Raw')\n",
    "    \n",
    "    r.set_can_repeat(data.can_repeat)\n",
    "    r.fit(data.samples[:data.n_batch_train],\n",
    "          data.samples[data.n_batch_train:batch_tail],\n",
    "          at=10,\n",
    "          n_epoch=1)\n",
    "    \n",
    "    res = r.evaluate(data.samples[batch_tail:],\n",
    "                     window_size=3000,\n",
    "                     at=10)\n",
    "    \n",
    "    d[ell] = res"
   ]
  },
  {
   "cell_type": "code",
   "execution_count": 270,
   "metadata": {
    "collapsed": true
   },
   "outputs": [],
   "source": [
    "mean_recalls, MPRs = [], []\n",
    "\n",
    "for ell in range(1, ell_bound + 1):\n",
    "    recalls, MPR, avg_recommend, avg_update = d[ell]\n",
    "    mean_recalls.append(np.mean(recalls))\n",
    "    MPRs.append(MPR)"
   ]
  },
  {
   "cell_type": "code",
   "execution_count": 271,
   "metadata": {
    "collapsed": false
   },
   "outputs": [
    {
     "data": {
      "image/png": "[encoded data removed]",
      "text/plain": [
       "<matplotlib.figure.Figure at 0x10bb6bba8>"
      ]
     },
     "metadata": {},
     "output_type": "display_data"
    }
   ],
   "source": [
    "fig, ax1 = plt.subplots()\n",
    "\n",
    "x = range(1, ell_bound + 1)\n",
    "l1 = ax1.plot(x, mean_recalls, c=colors[0], label='recall', lw=2., ms=8., marker='o', mew=0.)\n",
    "ax1.set_ylim(0.028, 0.032)\n",
    "ax1.set_yticks([0.028, 0.029, 0.030, 0.031, 0.032])\n",
    "ax1.set_ylabel('recall')\n",
    "\n",
    "ax2 = ax1.twinx()\n",
    "l2 = ax2.plot(x, MPRs, c=colors[2], label='MPR', lw=2., ms=8., marker='s', mew=0.)\n",
    "ax2.set_ylim(46.5, 48.5)\n",
    "ax2.set_yticks([46.5, 47.0, 47.5, 48.0, 48.5])\n",
    "ax2.set_ylabel('MPR [%]')\n",
    "\n",
    "lines = l1 + l2\n",
    "labels = [l.get_label() for l in lines]\n",
    "ax1.legend(lines, labels, loc=1)\n",
    "\n",
    "ax1.set_xlabel(r'sketch size $\\ell$')\n",
    "ax1.grid()\n",
    "ax1.set_xlim(0.5, 8.5)\n",
    "\n",
    "fig.set_size_inches((5.5, 2.8))\n",
    "fig.patch.set_alpha(0.0)\n",
    "\n",
    "plt.tight_layout()\n",
    "\n",
    "fig.savefig('../../paper/images/icmla-2016/ml100k_sketch_size.eps')"
   ]
  },
  {
   "cell_type": "markdown",
   "metadata": {},
   "source": [
    "### Click"
   ]
  },
  {
   "cell_type": "code",
   "execution_count": 262,
   "metadata": {
    "collapsed": true
   },
   "outputs": [],
   "source": [
    "data = Converter().convert(dataset='click')\n",
    "batch_tail = data.n_batch_train + data.n_batch_test"
   ]
  },
  {
   "cell_type": "code",
   "execution_count": 263,
   "metadata": {
    "collapsed": false
   },
   "outputs": [
    {
     "data": {
      "text/plain": [
       "(56, 7)"
      ]
     },
     "execution_count": 263,
     "metadata": {},
     "output_type": "execute_result"
    }
   ],
   "source": [
    "p = np.sum(list(data.contexts.values()))\n",
    "ell_bound = int(np.sqrt(p))\n",
    "p, ell_bound"
   ]
  },
  {
   "cell_type": "code",
   "execution_count": 206,
   "metadata": {
    "collapsed": false
   },
   "outputs": [
    {
     "name": "stdout",
     "output_type": "stream",
     "text": [
      "1\n"
     ]
    },
    {
     "name": "stderr",
     "output_type": "stream",
     "text": [
      "[7735] epoch  1: recall@1 = 0.593838\n",
      "[7735] epoch  1: recall@1 = 0.593838\n",
      "[7735] [0.593837535014]\n",
      "[7735] [0.593837535014]\n"
     ]
    },
    {
     "name": "stdout",
     "output_type": "stream",
     "text": [
      "2\n"
     ]
    },
    {
     "name": "stderr",
     "output_type": "stream",
     "text": [
      "[7735] epoch  1: recall@1 = 0.593838\n",
      "[7735] epoch  1: recall@1 = 0.593838\n",
      "[7735] [0.593837535014]\n",
      "[7735] [0.593837535014]\n"
     ]
    },
    {
     "name": "stdout",
     "output_type": "stream",
     "text": [
      "3\n"
     ]
    },
    {
     "name": "stderr",
     "output_type": "stream",
     "text": [
      "[7735] epoch  1: recall@1 = 0.641457\n",
      "[7735] epoch  1: recall@1 = 0.641457\n",
      "[7735] [0.641456582633]\n",
      "[7735] [0.641456582633]\n"
     ]
    },
    {
     "name": "stdout",
     "output_type": "stream",
     "text": [
      "4\n"
     ]
    },
    {
     "name": "stderr",
     "output_type": "stream",
     "text": [
      "[7735] epoch  1: recall@1 = 0.641457\n",
      "[7735] epoch  1: recall@1 = 0.641457\n",
      "[7735] [0.641456582633]\n",
      "[7735] [0.641456582633]\n"
     ]
    },
    {
     "name": "stdout",
     "output_type": "stream",
     "text": [
      "5\n"
     ]
    },
    {
     "name": "stderr",
     "output_type": "stream",
     "text": [
      "[7735] epoch  1: recall@1 = 0.705882\n",
      "[7735] epoch  1: recall@1 = 0.705882\n",
      "[7735] [0.705882352941]\n",
      "[7735] [0.705882352941]\n"
     ]
    },
    {
     "name": "stdout",
     "output_type": "stream",
     "text": [
      "6\n"
     ]
    },
    {
     "name": "stderr",
     "output_type": "stream",
     "text": [
      "[7735] epoch  1: recall@1 = 0.705882\n",
      "[7735] epoch  1: recall@1 = 0.705882\n",
      "[7735] [0.705882352941]\n",
      "[7735] [0.705882352941]\n"
     ]
    },
    {
     "name": "stdout",
     "output_type": "stream",
     "text": [
      "7\n"
     ]
    },
    {
     "name": "stderr",
     "output_type": "stream",
     "text": [
      "[7735] epoch  1: recall@1 = 0.705882\n",
      "[7735] epoch  1: recall@1 = 0.705882\n",
      "[7735] [0.705882352941]\n",
      "[7735] [0.705882352941]\n"
     ]
    }
   ],
   "source": [
    "d_click = {}\n",
    "\n",
    "for ell in range(1, ell_bound + 1):\n",
    "    print(ell)\n",
    "    r = OnlineSketch(contexts=data.contexts, k=p, ell=ell, proj='Raw')\n",
    "    \n",
    "    r.set_can_repeat(data.can_repeat)\n",
    "    r.fit(data.samples[:data.n_batch_train],\n",
    "          data.samples[data.n_batch_train:batch_tail],\n",
    "          at=1,\n",
    "          n_epoch=1)\n",
    "    \n",
    "    res = r.evaluate(data.samples[batch_tail:],\n",
    "                     window_size=500,\n",
    "                     at=1)\n",
    "    \n",
    "    d_click[ell] = res"
   ]
  },
  {
   "cell_type": "code",
   "execution_count": 264,
   "metadata": {
    "collapsed": true
   },
   "outputs": [],
   "source": [
    "mean_recalls, MPRs = [], []\n",
    "\n",
    "for ell in range(1, ell_bound + 1):\n",
    "    recalls, MPR, avg_recommend, avg_update = d_click[ell]\n",
    "    mean_recalls.append(np.mean(recalls))\n",
    "    MPRs.append(MPR)"
   ]
  },
  {
   "cell_type": "code",
   "execution_count": 266,
   "metadata": {
    "collapsed": false
   },
   "outputs": [
    {
     "data": {
      "image/png": "[encoded data removed]",
      "text/plain": [
       "<matplotlib.figure.Figure at 0x10c9c7c18>"
      ]
     },
     "metadata": {},
     "output_type": "display_data"
    }
   ],
   "source": [
    "fig, ax1 = plt.subplots()\n",
    "\n",
    "x = range(1, ell_bound + 1)\n",
    "l1 = ax1.plot(x, mean_recalls, c=colors[0], label='recall', lw=2., ms=8., marker='o', mew=0.)\n",
    "ax1.set_ylim(0.15, 0.4)\n",
    "ax1.set_yticks([0.15, 0.2, 0.25, 0.30, 0.35, 0.40])\n",
    "ax1.set_ylabel('recall')\n",
    "\n",
    "ax2 = ax1.twinx()\n",
    "l2 = ax2.plot(x, MPRs, c=colors[2], label='MPR', lw=2., ms=8., marker='s', mew=0.)\n",
    "ax2.set_ylim(25, 50)\n",
    "ax2.set_yticks([25, 30, 35, 40, 45, 50])\n",
    "ax2.set_ylabel('MPR [%]')\n",
    "\n",
    "lines = l1 + l2\n",
    "labels = [l.get_label() for l in lines]\n",
    "ax1.legend(lines, labels, loc=5)\n",
    "\n",
    "ax1.set_xlabel(r'sketch size $\\ell$')\n",
    "ax1.grid()\n",
    "ax1.set_xlim(0.5, 7.5)\n",
    "\n",
    "fig.set_size_inches((5.5, 2.8))\n",
    "fig.patch.set_alpha(0.0)\n",
    "\n",
    "plt.tight_layout()\n",
    "\n",
    "fig.savefig('../../paper/images/icmla-2016/click_sketch_size.eps')"
   ]
  }
 ],
 "metadata": {
  "kernelspec": {
   "display_name": "Python 3",
   "language": "python",
   "name": "python3"
  },
  "language_info": {
   "codemirror_mode": {
    "name": "ipython",
    "version": 3
   },
   "file_extension": ".py",
   "mimetype": "text/x-python",
   "name": "python",
   "nbconvert_exporter": "python",
   "pygments_lexer": "ipython3",
   "version": "3.5.2"
  }
 },
 "nbformat": 4,
 "nbformat_minor": 0
}
