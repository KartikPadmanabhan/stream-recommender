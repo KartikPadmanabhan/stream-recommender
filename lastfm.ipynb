{
 "cells": [
  {
   "cell_type": "markdown",
   "metadata": {},
   "source": [
    "# Preprocessing for the LastFM dataset"
   ]
  },
  {
   "cell_type": "code",
   "execution_count": 1,
   "metadata": {
    "collapsed": true
   },
   "outputs": [],
   "source": [
    "import numpy as np\n",
    "import pandas as pd\n",
    "\n",
    "import time\n",
    "from calendar import monthrange\n",
    "from datetime import datetime, timedelta"
   ]
  },
  {
   "cell_type": "markdown",
   "metadata": {},
   "source": [
    "Convert the original TSV data into DataFrames, and sort them by timestamp"
   ]
  },
  {
   "cell_type": "code",
   "execution_count": 2,
   "metadata": {
    "collapsed": true
   },
   "outputs": [],
   "source": [
    "df_plays = pd.read_csv('../../data/lastfm-dataset-1K/userid-timestamp-artid-artname-traid-traname.tsv',\n",
    "     delimiter='\\t',\n",
    "     header=None,\n",
    "     names=('userid', 'timestamp', 'artist-id', 'artist-name', 'track-id', 'track-name'))\n",
    "\n",
    "df_users = pd.read_csv('../../data/lastfm-dataset-1K/userid-profile.tsv',\n",
    "     delimiter='\\t')\n",
    "\n",
    "df_lastfm = pd.merge(df_plays, df_users, how='inner', left_on='userid', right_on='#id').drop(\n",
    "    ['#id', 'artist-id', 'artist-name', 'track-name', 'registered'], axis=1).sort_values(\n",
    "    by='timestamp').reset_index(drop=True)"
   ]
  },
  {
   "cell_type": "code",
   "execution_count": 3,
   "metadata": {
    "collapsed": false
   },
   "outputs": [
    {
     "data": {
      "text/html": [
       "<div>\n",
       "<table border=\"1\" class=\"dataframe\">\n",
       "  <thead>\n",
       "    <tr style=\"text-align: right;\">\n",
       "      <th></th>\n",
       "      <th>userid</th>\n",
       "      <th>timestamp</th>\n",
       "      <th>track-id</th>\n",
       "      <th>gender</th>\n",
       "      <th>age</th>\n",
       "      <th>country</th>\n",
       "    </tr>\n",
       "  </thead>\n",
       "  <tbody>\n",
       "    <tr>\n",
       "      <th>0</th>\n",
       "      <td>user_000391</td>\n",
       "      <td>2005-02-14T00:00:07Z</td>\n",
       "      <td>6b4977f4-3c7a-492a-af61-1e877fa66f52</td>\n",
       "      <td>f</td>\n",
       "      <td>NaN</td>\n",
       "      <td>Germany</td>\n",
       "    </tr>\n",
       "    <tr>\n",
       "      <th>1</th>\n",
       "      <td>user_000871</td>\n",
       "      <td>2005-02-14T00:00:38Z</td>\n",
       "      <td>9ecc2ab3-7294-43ad-bdeb-f51388a7a6e0</td>\n",
       "      <td>NaN</td>\n",
       "      <td>NaN</td>\n",
       "      <td>Argentina</td>\n",
       "    </tr>\n",
       "    <tr>\n",
       "      <th>2</th>\n",
       "      <td>user_000709</td>\n",
       "      <td>2005-02-14T00:01:44Z</td>\n",
       "      <td>1d0f1ea5-0a92-4578-a7e7-3f2a7129da61</td>\n",
       "      <td>m</td>\n",
       "      <td>NaN</td>\n",
       "      <td>Canada</td>\n",
       "    </tr>\n",
       "    <tr>\n",
       "      <th>3</th>\n",
       "      <td>user_000285</td>\n",
       "      <td>2005-02-14T00:02:10Z</td>\n",
       "      <td>46909ba9-46c7-461e-a2ef-280eacd550e4</td>\n",
       "      <td>f</td>\n",
       "      <td>23</td>\n",
       "      <td>United States</td>\n",
       "    </tr>\n",
       "    <tr>\n",
       "      <th>4</th>\n",
       "      <td>user_000142</td>\n",
       "      <td>2005-02-14T00:02:40Z</td>\n",
       "      <td>14025355-94c2-4e9b-b63f-c16cab9e8086</td>\n",
       "      <td>NaN</td>\n",
       "      <td>NaN</td>\n",
       "      <td>Norway</td>\n",
       "    </tr>\n",
       "  </tbody>\n",
       "</table>\n",
       "</div>"
      ],
      "text/plain": [
       "        userid             timestamp                              track-id  \\\n",
       "0  user_000391  2005-02-14T00:00:07Z  6b4977f4-3c7a-492a-af61-1e877fa66f52   \n",
       "1  user_000871  2005-02-14T00:00:38Z  9ecc2ab3-7294-43ad-bdeb-f51388a7a6e0   \n",
       "2  user_000709  2005-02-14T00:01:44Z  1d0f1ea5-0a92-4578-a7e7-3f2a7129da61   \n",
       "3  user_000285  2005-02-14T00:02:10Z  46909ba9-46c7-461e-a2ef-280eacd550e4   \n",
       "4  user_000142  2005-02-14T00:02:40Z  14025355-94c2-4e9b-b63f-c16cab9e8086   \n",
       "\n",
       "  gender  age        country  \n",
       "0      f  NaN        Germany  \n",
       "1    NaN  NaN      Argentina  \n",
       "2      m  NaN         Canada  \n",
       "3      f   23  United States  \n",
       "4    NaN  NaN         Norway  "
      ]
     },
     "execution_count": 3,
     "metadata": {},
     "output_type": "execute_result"
    }
   ],
   "source": [
    "df_lastfm.head()"
   ]
  },
  {
   "cell_type": "markdown",
   "metadata": {},
   "source": [
    "Obtain a subset of the dataset similary to:\n",
    "\n",
    "- [Fast Incremental Matrix Factorization for Recommendation with Positive-only Feedback](http://link.springer.com/chapter/10.1007%2F978-3-319-08786-3_41)\n",
    "- [Forgetting Methods for Incremental Matrix Factorization in Recommender Systems](http://dl.acm.org/citation.cfm?id=2695820)"
   ]
  },
  {
   "cell_type": "code",
   "execution_count": 4,
   "metadata": {
    "collapsed": false
   },
   "outputs": [
    {
     "data": {
      "text/plain": [
       "((493063, 6), 164, 65013)"
      ]
     },
     "execution_count": 4,
     "metadata": {},
     "output_type": "execute_result"
    }
   ],
   "source": [
    "# 8 month from the first observation\n",
    "# df_lastfm_600k = df_lastfm[df_lastfm['timestamp'] < '2005-10-18T00:32:59Z']\n",
    "df_lastfm_600k = df_lastfm.head(666400)\n",
    "\n",
    "# remove NaN track_id events\n",
    "df_lastfm_600k = df_lastfm_600k.loc[pd.notnull(df_lastfm_600k['track-id'])].reset_index(drop=True)\n",
    "\n",
    "# remove unique occurence of <user, item> pairs\n",
    "df_lastfm_600k = df_lastfm_600k.loc[df_lastfm_600k.duplicated(\n",
    "    ['userid', 'track-id'], keep=False)].reset_index(drop=True)\n",
    "\n",
    "df_lastfm_600k = df_lastfm_600k.head(493063)\n",
    "\n",
    "user_ids = list(set(df_lastfm_600k['userid']))\n",
    "item_ids = list(set(df_lastfm_600k['track-id']))\n",
    "\n",
    "df_lastfm_600k.shape, len(user_ids), len(item_ids)"
   ]
  },
  {
   "cell_type": "code",
   "execution_count": 5,
   "metadata": {
    "collapsed": false
   },
   "outputs": [
    {
     "data": {
      "text/html": [
       "<div>\n",
       "<table border=\"1\" class=\"dataframe\">\n",
       "  <thead>\n",
       "    <tr style=\"text-align: right;\">\n",
       "      <th></th>\n",
       "      <th>userid</th>\n",
       "      <th>timestamp</th>\n",
       "      <th>track-id</th>\n",
       "      <th>gender</th>\n",
       "      <th>age</th>\n",
       "      <th>country</th>\n",
       "    </tr>\n",
       "  </thead>\n",
       "  <tbody>\n",
       "    <tr>\n",
       "      <th>493058</th>\n",
       "      <td>user_000280</td>\n",
       "      <td>2005-10-17T23:50:12Z</td>\n",
       "      <td>29f4dcff-6462-43fa-8c5f-37b3c7322afb</td>\n",
       "      <td>NaN</td>\n",
       "      <td>32</td>\n",
       "      <td>United Kingdom</td>\n",
       "    </tr>\n",
       "    <tr>\n",
       "      <th>493059</th>\n",
       "      <td>user_000966</td>\n",
       "      <td>2005-10-17T23:50:43Z</td>\n",
       "      <td>5f0be7d5-3dc8-4800-9de9-20443348dd6e</td>\n",
       "      <td>NaN</td>\n",
       "      <td>NaN</td>\n",
       "      <td>United States</td>\n",
       "    </tr>\n",
       "    <tr>\n",
       "      <th>493060</th>\n",
       "      <td>user_000273</td>\n",
       "      <td>2005-10-17T23:51:26Z</td>\n",
       "      <td>24c8706a-e05b-4e87-9c11-78d75ed88cf3</td>\n",
       "      <td>f</td>\n",
       "      <td>19</td>\n",
       "      <td>United States</td>\n",
       "    </tr>\n",
       "    <tr>\n",
       "      <th>493061</th>\n",
       "      <td>user_000833</td>\n",
       "      <td>2005-10-17T23:51:58Z</td>\n",
       "      <td>c954912b-00a3-485f-8130-c592930a5942</td>\n",
       "      <td>f</td>\n",
       "      <td>NaN</td>\n",
       "      <td>United States</td>\n",
       "    </tr>\n",
       "    <tr>\n",
       "      <th>493062</th>\n",
       "      <td>user_000958</td>\n",
       "      <td>2005-10-17T23:53:02Z</td>\n",
       "      <td>3d026c3c-625d-4d9f-8e37-3a115501c1b4</td>\n",
       "      <td>m</td>\n",
       "      <td>NaN</td>\n",
       "      <td>Mexico</td>\n",
       "    </tr>\n",
       "  </tbody>\n",
       "</table>\n",
       "</div>"
      ],
      "text/plain": [
       "             userid             timestamp  \\\n",
       "493058  user_000280  2005-10-17T23:50:12Z   \n",
       "493059  user_000966  2005-10-17T23:50:43Z   \n",
       "493060  user_000273  2005-10-17T23:51:26Z   \n",
       "493061  user_000833  2005-10-17T23:51:58Z   \n",
       "493062  user_000958  2005-10-17T23:53:02Z   \n",
       "\n",
       "                                    track-id gender  age         country  \n",
       "493058  29f4dcff-6462-43fa-8c5f-37b3c7322afb    NaN   32  United Kingdom  \n",
       "493059  5f0be7d5-3dc8-4800-9de9-20443348dd6e    NaN  NaN   United States  \n",
       "493060  24c8706a-e05b-4e87-9c11-78d75ed88cf3      f   19   United States  \n",
       "493061  c954912b-00a3-485f-8130-c592930a5942      f  NaN   United States  \n",
       "493062  3d026c3c-625d-4d9f-8e37-3a115501c1b4      m  NaN          Mexico  "
      ]
     },
     "execution_count": 5,
     "metadata": {},
     "output_type": "execute_result"
    }
   ],
   "source": [
    "df_lastfm_600k.tail()"
   ]
  },
  {
   "cell_type": "markdown",
   "metadata": {},
   "source": [
    "Check the sparsity. It must be 99.11% according to the iMF paper."
   ]
  },
  {
   "cell_type": "code",
   "execution_count": 8,
   "metadata": {
    "collapsed": false
   },
   "outputs": [
    {
     "data": {
      "text/plain": [
       "99.11031864921574"
      ]
     },
     "execution_count": 8,
     "metadata": {},
     "output_type": "execute_result"
    }
   ],
   "source": [
    "A = np.zeros((len(user_ids), len(item_ids)))\n",
    "\n",
    "for i, row in df_lastfm_600k.iterrows():\n",
    "    u_index = user_ids.index(row['userid'])\n",
    "    i_index = item_ids.index(row['track-id'])\n",
    "    A[u_index, i_index] += 1\n",
    "    \n",
    "(A.size - np.count_nonzero(A)) / float(A.size) * 100."
   ]
  },
  {
   "cell_type": "markdown",
   "metadata": {},
   "source": [
    "Fill NaN contextual variables. Dummy values are set to:\n",
    "\n",
    "- sex: male\n",
    "- age: avg. of the samples\n",
    "- country: United States"
   ]
  },
  {
   "cell_type": "code",
   "execution_count": 6,
   "metadata": {
    "collapsed": true
   },
   "outputs": [],
   "source": [
    "df_lastfm_600k['gender'] = df_lastfm_600k['gender'].fillna('m')\n",
    "df_lastfm_600k['age'] = df_lastfm_600k['age'].fillna(np.mean(df_lastfm_600k['age']))\n",
    "df_lastfm_600k['country'] = df_lastfm_600k['country'].fillna('United States')"
   ]
  },
  {
   "cell_type": "code",
   "execution_count": 7,
   "metadata": {
    "collapsed": false
   },
   "outputs": [
    {
     "data": {
      "text/html": [
       "<div>\n",
       "<table border=\"1\" class=\"dataframe\">\n",
       "  <thead>\n",
       "    <tr style=\"text-align: right;\">\n",
       "      <th></th>\n",
       "      <th>userid</th>\n",
       "      <th>timestamp</th>\n",
       "      <th>track-id</th>\n",
       "      <th>gender</th>\n",
       "      <th>age</th>\n",
       "      <th>country</th>\n",
       "    </tr>\n",
       "  </thead>\n",
       "  <tbody>\n",
       "    <tr>\n",
       "      <th>493058</th>\n",
       "      <td>user_000280</td>\n",
       "      <td>2005-10-17T23:50:12Z</td>\n",
       "      <td>29f4dcff-6462-43fa-8c5f-37b3c7322afb</td>\n",
       "      <td>m</td>\n",
       "      <td>32.000000</td>\n",
       "      <td>United Kingdom</td>\n",
       "    </tr>\n",
       "    <tr>\n",
       "      <th>493059</th>\n",
       "      <td>user_000966</td>\n",
       "      <td>2005-10-17T23:50:43Z</td>\n",
       "      <td>5f0be7d5-3dc8-4800-9de9-20443348dd6e</td>\n",
       "      <td>m</td>\n",
       "      <td>27.730935</td>\n",
       "      <td>United States</td>\n",
       "    </tr>\n",
       "    <tr>\n",
       "      <th>493060</th>\n",
       "      <td>user_000273</td>\n",
       "      <td>2005-10-17T23:51:26Z</td>\n",
       "      <td>24c8706a-e05b-4e87-9c11-78d75ed88cf3</td>\n",
       "      <td>f</td>\n",
       "      <td>19.000000</td>\n",
       "      <td>United States</td>\n",
       "    </tr>\n",
       "    <tr>\n",
       "      <th>493061</th>\n",
       "      <td>user_000833</td>\n",
       "      <td>2005-10-17T23:51:58Z</td>\n",
       "      <td>c954912b-00a3-485f-8130-c592930a5942</td>\n",
       "      <td>f</td>\n",
       "      <td>27.730935</td>\n",
       "      <td>United States</td>\n",
       "    </tr>\n",
       "    <tr>\n",
       "      <th>493062</th>\n",
       "      <td>user_000958</td>\n",
       "      <td>2005-10-17T23:53:02Z</td>\n",
       "      <td>3d026c3c-625d-4d9f-8e37-3a115501c1b4</td>\n",
       "      <td>m</td>\n",
       "      <td>27.730935</td>\n",
       "      <td>Mexico</td>\n",
       "    </tr>\n",
       "  </tbody>\n",
       "</table>\n",
       "</div>"
      ],
      "text/plain": [
       "             userid             timestamp  \\\n",
       "493058  user_000280  2005-10-17T23:50:12Z   \n",
       "493059  user_000966  2005-10-17T23:50:43Z   \n",
       "493060  user_000273  2005-10-17T23:51:26Z   \n",
       "493061  user_000833  2005-10-17T23:51:58Z   \n",
       "493062  user_000958  2005-10-17T23:53:02Z   \n",
       "\n",
       "                                    track-id gender        age         country  \n",
       "493058  29f4dcff-6462-43fa-8c5f-37b3c7322afb      m  32.000000  United Kingdom  \n",
       "493059  5f0be7d5-3dc8-4800-9de9-20443348dd6e      m  27.730935   United States  \n",
       "493060  24c8706a-e05b-4e87-9c11-78d75ed88cf3      f  19.000000   United States  \n",
       "493061  c954912b-00a3-485f-8130-c592930a5942      f  27.730935   United States  \n",
       "493062  3d026c3c-625d-4d9f-8e37-3a115501c1b4      m  27.730935          Mexico  "
      ]
     },
     "execution_count": 7,
     "metadata": {},
     "output_type": "execute_result"
    }
   ],
   "source": [
    "df_lastfm_600k.tail()"
   ]
  },
  {
   "cell_type": "markdown",
   "metadata": {},
   "source": [
    "Create features used in the model.\n",
    "\n",
    "1. **elapsed days** from the first sample\n",
    "2. **user indices** corresponds to *userid*\n",
    "3. **item indices** corresponds to *track-id*"
   ]
  },
  {
   "cell_type": "code",
   "execution_count": 9,
   "metadata": {
    "collapsed": false
   },
   "outputs": [
    {
     "data": {
      "text/plain": [
       "(493063, 493063, 493063)"
      ]
     },
     "execution_count": 9,
     "metadata": {},
     "output_type": "execute_result"
    }
   ],
   "source": [
    "# compute elapsed days from the first sample\n",
    "head_date = datetime.strptime(df_lastfm_600k.iloc[0]['timestamp'], \"%Y-%m-%dT%H:%M:%SZ\")\n",
    "\n",
    "u_indices = []\n",
    "i_indices = []\n",
    "dts = []\n",
    "\n",
    "for i, row in df_lastfm_600k.iterrows():\n",
    "    u_index = user_ids.index(row['userid'])\n",
    "    u_indices.append(u_index)\n",
    "    \n",
    "    i_index = item_ids.index(row['track-id'])\n",
    "    i_indices.append(i_index)\n",
    "    \n",
    "    date = datetime.strptime(row['timestamp'], \"%Y-%m-%dT%H:%M:%SZ\")\n",
    "    dt = (date - head_date).days\n",
    "    dts.append(dt)\n",
    "    \n",
    "len(u_indices), len(i_indices), len(dts)"
   ]
  },
  {
   "cell_type": "code",
   "execution_count": 10,
   "metadata": {
    "collapsed": true
   },
   "outputs": [],
   "source": [
    "df_lastfm_600k['u_index'] = u_indices\n",
    "df_lastfm_600k['i_index'] = i_indices\n",
    "df_lastfm_600k['dt'] = dts"
   ]
  },
  {
   "cell_type": "code",
   "execution_count": 11,
   "metadata": {
    "collapsed": false
   },
   "outputs": [
    {
     "data": {
      "text/html": [
       "<div>\n",
       "<table border=\"1\" class=\"dataframe\">\n",
       "  <thead>\n",
       "    <tr style=\"text-align: right;\">\n",
       "      <th></th>\n",
       "      <th>userid</th>\n",
       "      <th>timestamp</th>\n",
       "      <th>track-id</th>\n",
       "      <th>gender</th>\n",
       "      <th>age</th>\n",
       "      <th>country</th>\n",
       "      <th>u_index</th>\n",
       "      <th>i_index</th>\n",
       "      <th>dt</th>\n",
       "    </tr>\n",
       "  </thead>\n",
       "  <tbody>\n",
       "    <tr>\n",
       "      <th>0</th>\n",
       "      <td>user_000391</td>\n",
       "      <td>2005-02-14T00:00:07Z</td>\n",
       "      <td>6b4977f4-3c7a-492a-af61-1e877fa66f52</td>\n",
       "      <td>f</td>\n",
       "      <td>27.730935</td>\n",
       "      <td>Germany</td>\n",
       "      <td>10</td>\n",
       "      <td>62500</td>\n",
       "      <td>0</td>\n",
       "    </tr>\n",
       "    <tr>\n",
       "      <th>1</th>\n",
       "      <td>user_000871</td>\n",
       "      <td>2005-02-14T00:00:38Z</td>\n",
       "      <td>9ecc2ab3-7294-43ad-bdeb-f51388a7a6e0</td>\n",
       "      <td>m</td>\n",
       "      <td>27.730935</td>\n",
       "      <td>Argentina</td>\n",
       "      <td>62</td>\n",
       "      <td>24753</td>\n",
       "      <td>0</td>\n",
       "    </tr>\n",
       "    <tr>\n",
       "      <th>2</th>\n",
       "      <td>user_000709</td>\n",
       "      <td>2005-02-14T00:01:44Z</td>\n",
       "      <td>1d0f1ea5-0a92-4578-a7e7-3f2a7129da61</td>\n",
       "      <td>m</td>\n",
       "      <td>27.730935</td>\n",
       "      <td>Canada</td>\n",
       "      <td>33</td>\n",
       "      <td>60928</td>\n",
       "      <td>0</td>\n",
       "    </tr>\n",
       "    <tr>\n",
       "      <th>3</th>\n",
       "      <td>user_000285</td>\n",
       "      <td>2005-02-14T00:02:10Z</td>\n",
       "      <td>46909ba9-46c7-461e-a2ef-280eacd550e4</td>\n",
       "      <td>f</td>\n",
       "      <td>23.000000</td>\n",
       "      <td>United States</td>\n",
       "      <td>82</td>\n",
       "      <td>10729</td>\n",
       "      <td>0</td>\n",
       "    </tr>\n",
       "    <tr>\n",
       "      <th>4</th>\n",
       "      <td>user_000142</td>\n",
       "      <td>2005-02-14T00:02:40Z</td>\n",
       "      <td>14025355-94c2-4e9b-b63f-c16cab9e8086</td>\n",
       "      <td>m</td>\n",
       "      <td>27.730935</td>\n",
       "      <td>Norway</td>\n",
       "      <td>20</td>\n",
       "      <td>46441</td>\n",
       "      <td>0</td>\n",
       "    </tr>\n",
       "  </tbody>\n",
       "</table>\n",
       "</div>"
      ],
      "text/plain": [
       "        userid             timestamp                              track-id  \\\n",
       "0  user_000391  2005-02-14T00:00:07Z  6b4977f4-3c7a-492a-af61-1e877fa66f52   \n",
       "1  user_000871  2005-02-14T00:00:38Z  9ecc2ab3-7294-43ad-bdeb-f51388a7a6e0   \n",
       "2  user_000709  2005-02-14T00:01:44Z  1d0f1ea5-0a92-4578-a7e7-3f2a7129da61   \n",
       "3  user_000285  2005-02-14T00:02:10Z  46909ba9-46c7-461e-a2ef-280eacd550e4   \n",
       "4  user_000142  2005-02-14T00:02:40Z  14025355-94c2-4e9b-b63f-c16cab9e8086   \n",
       "\n",
       "  gender        age        country  u_index  i_index  dt  \n",
       "0      f  27.730935        Germany       10    62500   0  \n",
       "1      m  27.730935      Argentina       62    24753   0  \n",
       "2      m  27.730935         Canada       33    60928   0  \n",
       "3      f  23.000000  United States       82    10729   0  \n",
       "4      m  27.730935         Norway       20    46441   0  "
      ]
     },
     "execution_count": 11,
     "metadata": {},
     "output_type": "execute_result"
    }
   ],
   "source": [
    "df_lastfm_600k.head()"
   ]
  },
  {
   "cell_type": "code",
   "execution_count": 12,
   "metadata": {
    "collapsed": false
   },
   "outputs": [
    {
     "data": {
      "text/html": [
       "<div>\n",
       "<table border=\"1\" class=\"dataframe\">\n",
       "  <thead>\n",
       "    <tr style=\"text-align: right;\">\n",
       "      <th></th>\n",
       "      <th>userid</th>\n",
       "      <th>timestamp</th>\n",
       "      <th>track-id</th>\n",
       "      <th>gender</th>\n",
       "      <th>age</th>\n",
       "      <th>country</th>\n",
       "      <th>u_index</th>\n",
       "      <th>i_index</th>\n",
       "      <th>dt</th>\n",
       "    </tr>\n",
       "  </thead>\n",
       "  <tbody>\n",
       "    <tr>\n",
       "      <th>493058</th>\n",
       "      <td>user_000280</td>\n",
       "      <td>2005-10-17T23:50:12Z</td>\n",
       "      <td>29f4dcff-6462-43fa-8c5f-37b3c7322afb</td>\n",
       "      <td>m</td>\n",
       "      <td>32.000000</td>\n",
       "      <td>United Kingdom</td>\n",
       "      <td>86</td>\n",
       "      <td>42695</td>\n",
       "      <td>245</td>\n",
       "    </tr>\n",
       "    <tr>\n",
       "      <th>493059</th>\n",
       "      <td>user_000966</td>\n",
       "      <td>2005-10-17T23:50:43Z</td>\n",
       "      <td>5f0be7d5-3dc8-4800-9de9-20443348dd6e</td>\n",
       "      <td>m</td>\n",
       "      <td>27.730935</td>\n",
       "      <td>United States</td>\n",
       "      <td>90</td>\n",
       "      <td>2383</td>\n",
       "      <td>245</td>\n",
       "    </tr>\n",
       "    <tr>\n",
       "      <th>493060</th>\n",
       "      <td>user_000273</td>\n",
       "      <td>2005-10-17T23:51:26Z</td>\n",
       "      <td>24c8706a-e05b-4e87-9c11-78d75ed88cf3</td>\n",
       "      <td>f</td>\n",
       "      <td>19.000000</td>\n",
       "      <td>United States</td>\n",
       "      <td>132</td>\n",
       "      <td>44570</td>\n",
       "      <td>245</td>\n",
       "    </tr>\n",
       "    <tr>\n",
       "      <th>493061</th>\n",
       "      <td>user_000833</td>\n",
       "      <td>2005-10-17T23:51:58Z</td>\n",
       "      <td>c954912b-00a3-485f-8130-c592930a5942</td>\n",
       "      <td>f</td>\n",
       "      <td>27.730935</td>\n",
       "      <td>United States</td>\n",
       "      <td>148</td>\n",
       "      <td>54009</td>\n",
       "      <td>245</td>\n",
       "    </tr>\n",
       "    <tr>\n",
       "      <th>493062</th>\n",
       "      <td>user_000958</td>\n",
       "      <td>2005-10-17T23:53:02Z</td>\n",
       "      <td>3d026c3c-625d-4d9f-8e37-3a115501c1b4</td>\n",
       "      <td>m</td>\n",
       "      <td>27.730935</td>\n",
       "      <td>Mexico</td>\n",
       "      <td>105</td>\n",
       "      <td>4289</td>\n",
       "      <td>245</td>\n",
       "    </tr>\n",
       "  </tbody>\n",
       "</table>\n",
       "</div>"
      ],
      "text/plain": [
       "             userid             timestamp  \\\n",
       "493058  user_000280  2005-10-17T23:50:12Z   \n",
       "493059  user_000966  2005-10-17T23:50:43Z   \n",
       "493060  user_000273  2005-10-17T23:51:26Z   \n",
       "493061  user_000833  2005-10-17T23:51:58Z   \n",
       "493062  user_000958  2005-10-17T23:53:02Z   \n",
       "\n",
       "                                    track-id gender        age  \\\n",
       "493058  29f4dcff-6462-43fa-8c5f-37b3c7322afb      m  32.000000   \n",
       "493059  5f0be7d5-3dc8-4800-9de9-20443348dd6e      m  27.730935   \n",
       "493060  24c8706a-e05b-4e87-9c11-78d75ed88cf3      f  19.000000   \n",
       "493061  c954912b-00a3-485f-8130-c592930a5942      f  27.730935   \n",
       "493062  3d026c3c-625d-4d9f-8e37-3a115501c1b4      m  27.730935   \n",
       "\n",
       "               country  u_index  i_index   dt  \n",
       "493058  United Kingdom       86    42695  245  \n",
       "493059   United States       90     2383  245  \n",
       "493060   United States      132    44570  245  \n",
       "493061   United States      148    54009  245  \n",
       "493062          Mexico      105     4289  245  "
      ]
     },
     "execution_count": 12,
     "metadata": {},
     "output_type": "execute_result"
    }
   ],
   "source": [
    "df_lastfm_600k.tail()"
   ]
  },
  {
   "cell_type": "markdown",
   "metadata": {},
   "source": [
    "Export the DataFrame into an intermediate TSV file."
   ]
  },
  {
   "cell_type": "code",
   "execution_count": 14,
   "metadata": {
    "collapsed": true
   },
   "outputs": [],
   "source": [
    "df_lastfm_600k.to_csv('../../data/lastfm-dataset-1K/lastfm-600k.tsv', sep='\\t', index=False)"
   ]
  },
  {
   "cell_type": "code",
   "execution_count": null,
   "metadata": {
    "collapsed": true
   },
   "outputs": [],
   "source": []
  }
 ],
 "metadata": {
  "kernelspec": {
   "display_name": "Python 2",
   "language": "python",
   "name": "python2"
  },
  "language_info": {
   "codemirror_mode": {
    "name": "ipython",
    "version": 2
   },
   "file_extension": ".py",
   "mimetype": "text/x-python",
   "name": "python",
   "nbconvert_exporter": "python",
   "pygments_lexer": "ipython2",
   "version": "2.7.11"
  }
 },
 "nbformat": 4,
 "nbformat_minor": 0
}
