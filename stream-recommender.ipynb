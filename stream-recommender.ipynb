{
 "cells": [
  {
   "cell_type": "markdown",
   "metadata": {},
   "source": [
    "# Recommender systems in streaming environment"
   ]
  },
  {
   "cell_type": "code",
   "execution_count": 27,
   "metadata": {
    "collapsed": false
   },
   "outputs": [],
   "source": [
    "import matplotlib as mpl \n",
    "mpl.use(\"pgf\") \n",
    "pgf_with_rc_fonts = {\n",
    "    \"font.serif\": [],\n",
    "}\n",
    "\n",
    "import numpy as np\n",
    "import pandas as pd\n",
    "import random\n",
    "import time\n",
    "\n",
    "%matplotlib inline\n",
    "import matplotlib.pyplot as plt\n",
    "\n",
    "mpl.rcParams['pdf.fonttype'] = 42\n",
    "mpl.rcParams['ps.fonttype'] = 42\n",
    "mpl.rcParams['axes.labelsize'] = 'large'\n",
    "mpl.rcParams[\"axes.facecolor\"] = 'w'"
   ]
  },
  {
   "cell_type": "markdown",
   "metadata": {},
   "source": [
    "### Load MovieLens 1M rating dataset\n",
    "\n",
    "(positive only)"
   ]
  },
  {
   "cell_type": "code",
   "execution_count": 2,
   "metadata": {
    "collapsed": false
   },
   "outputs": [
    {
     "data": {
      "text/plain": [
       "(226310, 4)"
      ]
     },
     "execution_count": 2,
     "metadata": {},
     "output_type": "execute_result"
    }
   ],
   "source": [
    "ratings = []\n",
    "with open('../../data/ml-1m/ratings.dat') as f:\n",
    "    lines = map(lambda l: map(int, l.rstrip().split('::')), f.readlines())\n",
    "    for l in lines:\n",
    "        # Since we consider positive-only feedback setting, ratings < 5 will be excluded.\n",
    "        if l[2] == 5: ratings.append(l)\n",
    "\n",
    "ratings = np.asarray(ratings)\n",
    "ratings.shape"
   ]
  },
  {
   "cell_type": "code",
   "execution_count": 3,
   "metadata": {
    "collapsed": false
   },
   "outputs": [
    {
     "data": {
      "text/plain": [
       "array([[     6040,       593,         5, 956703954],\n",
       "       [     6040,      2019,         5, 956703977],\n",
       "       [     6040,      3111,         5, 956704056],\n",
       "       [     6040,       213,         5, 956704056],\n",
       "       [     6040,       912,         5, 956704191]])"
      ]
     },
     "execution_count": 3,
     "metadata": {},
     "output_type": "execute_result"
    }
   ],
   "source": [
    "# sorted by timestamp\n",
    "ratings = ratings[np.argsort(ratings[:, 3])]\n",
    "ratings[:5]"
   ]
  },
  {
   "cell_type": "code",
   "execution_count": 4,
   "metadata": {
    "collapsed": false
   },
   "outputs": [
    {
     "data": {
      "text/plain": [
       "(226310, 45262, 181048)"
      ]
     },
     "execution_count": 4,
     "metadata": {},
     "output_type": "execute_result"
    }
   ],
   "source": [
    "n_ratings = ratings.shape[0]\n",
    "n_train = int(n_ratings * 0.2)\n",
    "n_ratings, n_train, n_ratings-n_train"
   ]
  },
  {
   "cell_type": "code",
   "execution_count": 5,
   "metadata": {
    "collapsed": false
   },
   "outputs": [
    {
     "data": {
      "text/plain": [
       "(6014, 3232)"
      ]
     },
     "execution_count": 5,
     "metadata": {},
     "output_type": "execute_result"
    }
   ],
   "source": [
    "users = set([])\n",
    "items = set([])\n",
    "for u, i, r, t in ratings:\n",
    "    users.add(u)\n",
    "    items.add(i)\n",
    "users = list(users)\n",
    "items = list(items)\n",
    "\n",
    "n_user = len(users)\n",
    "n_item = len(items)\n",
    "\n",
    "n_user, n_item"
   ]
  },
  {
   "cell_type": "markdown",
   "metadata": {},
   "source": [
    "### Prepare"
   ]
  },
  {
   "cell_type": "code",
   "execution_count": 6,
   "metadata": {
    "collapsed": false
   },
   "outputs": [
    {
     "data": {
      "text/plain": [
       "(5000, 10)"
      ]
     },
     "execution_count": 6,
     "metadata": {},
     "output_type": "execute_result"
    }
   ],
   "source": [
    "window_size = 5000 # for SMA\n",
    "N = 10 # recall@10\n",
    "\n",
    "window_size, N"
   ]
  },
  {
   "cell_type": "code",
   "execution_count": 22,
   "metadata": {
    "collapsed": false
   },
   "outputs": [
    {
     "name": "stdout",
     "output_type": "stream",
     "text": [
      "The autoreload extension is already loaded. To reload it, use:\n",
      "  %reload_ext autoreload\n"
     ]
    }
   ],
   "source": [
    "%load_ext autoreload\n",
    "%autoreload 2\n",
    "\n",
    "from incremental_MF import IncrementalMF\n",
    "from incremental_biasedMF import IncrementalBiasedMF\n",
    "from incremental_FMs import IncrementalFMs"
   ]
  },
  {
   "cell_type": "code",
   "execution_count": 8,
   "metadata": {
    "collapsed": false
   },
   "outputs": [],
   "source": [
    "def plot_setting(fig, ax):\n",
    "    ax.set_xlabel('index', fontsize=11)\n",
    "    ax.set_ylabel('recall@10', fontsize=11)\n",
    "    ax.yaxis.grid(True)\n",
    "    ax.set_xticks([0, 50000, 100000, 150000])\n",
    "    ax.set_yticks([0.00, 0.025, 0.05, 0.075, 0.10])\n",
    "    ax.set_xlim([-5000.0, 180000])\n",
    "    ax.set_ylim([0.0, 0.10])\n",
    "    ax.axvline(x=window_size, linewidth=1, linestyle='--', color='gray')\n",
    "    fig.set_size_inches((5.5,3))\n",
    "    fig.patch.set_alpha(0.0)"
   ]
  },
  {
   "cell_type": "markdown",
   "metadata": {},
   "source": [
    "## Evaluation methodology\n",
    "\n",
    "Following paper describes how we can evaluate recommender systems in streaming environments.\n",
    "\n",
    "J. Vinagre, et al., \"**Evaluation of Recommender Systems in Streaming Environments**,\" Proc. of REDD 2014, Oct. 2014.\n",
    "\n",
    "The key idea is a *test-then-learn* procedure. To give an example, for the Movielens-1M dataset, the authors set the following evaluation procedure with positive-only setting (i.e. use only positive \"5\" ratings):\n",
    "\n",
    "1. Initialize a model with the first 20% events.\n",
    "2. Observe an evant *(user, item, rating)* one-by-one.\n",
    "    - If *user* is already known:\n",
    "        - generate recommendation list and check if *item* is in the list (i.e. compute **recall@10**).\n",
    "        - compute Simple Moving Average (SMA) of **recall@10** for the most recent $n=5000$ events.\n",
    "3. Update the model based on the observed event, and proceed 2."
   ]
  },
  {
   "cell_type": "markdown",
   "metadata": {},
   "source": [
    "### Baseline\n",
    "\n",
    "train 20% and use the model for all new observations"
   ]
  },
  {
   "cell_type": "code",
   "execution_count": 28,
   "metadata": {
    "collapsed": true
   },
   "outputs": [],
   "source": [
    "# initialize\n",
    "imf = IncrementalMF(n_user, n_item, k=100, l2_reg=0.01, learn_rate=0.03)\n",
    "history_mat = np.zeros((n_user, n_item))\n",
    "base_avgs, base_times, sma = [], [], []"
   ]
  },
  {
   "cell_type": "code",
   "execution_count": 29,
   "metadata": {
    "collapsed": false
   },
   "outputs": [
    {
     "name": "stdout",
     "output_type": "stream",
     "text": [
      "CPU times: user 11.2 s, sys: 108 ms, total: 11.3 s\n",
      "Wall time: 11.5 s\n"
     ]
    }
   ],
   "source": [
    "%%time\n",
    "\n",
    "# to avoid cold-start, train initial 20% samples\n",
    "for ri in xrange(n_train):\n",
    "    u, i, rating, timestamp = ratings[ri]\n",
    "    u_index = users.index(u)\n",
    "    i_index = items.index(i)\n",
    "    imf.update(u_index, i_index)\n",
    "    history_mat[u_index, i_index] = 1"
   ]
  },
  {
   "cell_type": "code",
   "execution_count": 30,
   "metadata": {
    "collapsed": false
   },
   "outputs": [
    {
     "name": "stdout",
     "output_type": "stream",
     "text": [
      "CPU times: user 1min 56s, sys: 6.16 s, total: 2min 2s\n",
      "Wall time: 1min 52s\n"
     ]
    }
   ],
   "source": [
    "%%time\n",
    "\n",
    "# start stream recommendation\n",
    "for ri in xrange(n_train, n_ratings):\n",
    "    u, i, rating, timestamp = ratings[ri]\n",
    "    u_index = users.index(u)\n",
    "    i_index = items.index(i)\n",
    "    \n",
    "    ### start timer\n",
    "    start = time.clock()\n",
    "    \n",
    "    # 1.\n",
    "    if u_index in imf.known_users:\n",
    "        # If u is a known user, use the current model to recommend N items,\n",
    "        recos = imf.recommend(u_index, N, history_mat[u_index])\n",
    "        \n",
    "        # 2. Score the recommendation list given the true observed item i\n",
    "        recall = 1 if (i_index in recos) else 0\n",
    "        \n",
    "        sma.append(recall)\n",
    "        n = len(sma)\n",
    "        if n > window_size: \n",
    "            del sma[0]\n",
    "            n -= 1\n",
    "        avg = sum(sma) / float(n)\n",
    "        base_avgs.append(avg)\n",
    "    \n",
    "    # 3. update the know_users and known_items list (w/o updating the model)\n",
    "    if u_index not in imf.known_users: imf.known_users = np.append(imf.known_users, u_index)\n",
    "    if i_index not in imf.known_items: imf.known_items = np.append(imf.known_items, i_index)\n",
    "\n",
    "    ### end timer\n",
    "    elapsed_time = time.clock() - start\n",
    "    base_times.append(elapsed_time)\n",
    "        \n",
    "    history_mat[u_index, i_index] = 1"
   ]
  },
  {
   "cell_type": "code",
   "execution_count": 31,
   "metadata": {
    "collapsed": false
   },
   "outputs": [
    {
     "data": {
      "image/png": "[encoded data removed]",
      "text/plain": [
       "<matplotlib.figure.Figure at 0x112e95c50>"
      ]
     },
     "metadata": {},
     "output_type": "display_data"
    }
   ],
   "source": [
    "fig, ax = plt.subplots()\n",
    "ax.plot(range(len(base_avgs)), base_avgs)\n",
    "plot_setting(fig, ax)"
   ]
  },
  {
   "cell_type": "code",
   "execution_count": 37,
   "metadata": {
    "collapsed": false
   },
   "outputs": [
    {
     "data": {
      "text/plain": [
       "0.00053906504904767069"
      ]
     },
     "execution_count": 37,
     "metadata": {},
     "output_type": "execute_result"
    }
   ],
   "source": [
    "np.average(base_times)"
   ]
  },
  {
   "cell_type": "markdown",
   "metadata": {},
   "source": [
    "### Incremental Matrix Factorization (iMF)\n",
    "\n",
    "- Run a test-then-learn procedure\n",
    "- Simple Moving Average (SMA) with window size $n=5000$"
   ]
  },
  {
   "cell_type": "code",
   "execution_count": 39,
   "metadata": {
    "collapsed": false
   },
   "outputs": [],
   "source": [
    "# initialize\n",
    "imf = IncrementalMF(n_user, n_item, k=100, l2_reg=0.01, learn_rate=0.03)\n",
    "history_mat = np.zeros((n_user, n_item))\n",
    "imf_avgs, imf_times, sma = [], [], []"
   ]
  },
  {
   "cell_type": "code",
   "execution_count": 40,
   "metadata": {
    "collapsed": false
   },
   "outputs": [
    {
     "name": "stdout",
     "output_type": "stream",
     "text": [
      "CPU times: user 11.8 s, sys: 153 ms, total: 11.9 s\n",
      "Wall time: 12.3 s\n"
     ]
    }
   ],
   "source": [
    "%%time\n",
    "\n",
    "# to avoid cold-start, train initial 20% samples\n",
    "for ri in xrange(n_train):\n",
    "    u, i, rating, timestamp = ratings[ri]\n",
    "    u_index = users.index(u)\n",
    "    i_index = items.index(i)\n",
    "    imf.update(u_index, i_index)\n",
    "    history_mat[u_index, i_index] = 1"
   ]
  },
  {
   "cell_type": "code",
   "execution_count": 41,
   "metadata": {
    "collapsed": false
   },
   "outputs": [
    {
     "name": "stdout",
     "output_type": "stream",
     "text": [
      "CPU times: user 2min 14s, sys: 7.12 s, total: 2min 21s\n",
      "Wall time: 2min 9s\n"
     ]
    }
   ],
   "source": [
    "%%time\n",
    "\n",
    "# start stream recommendation\n",
    "for ri in xrange(n_train, n_ratings):\n",
    "    u, i, rating, timestamp = ratings[ri]\n",
    "    u_index = users.index(u)\n",
    "    i_index = items.index(i)\n",
    "    \n",
    "    ### start timer\n",
    "    start = time.clock()\n",
    "    \n",
    "    # 1.\n",
    "    if u_index in imf.known_users:\n",
    "        # If u is a known user, use the current model to recommend N items,\n",
    "        recos = imf.recommend(u_index, N, history_mat[u_index])\n",
    "        \n",
    "        # 2. Score the recommendation list given the true observed item i\n",
    "        recall = 1 if (i_index in recos) else 0\n",
    "        \n",
    "        sma.append(recall)\n",
    "        n = len(sma)\n",
    "        if n > window_size: \n",
    "            del sma[0]\n",
    "            n -= 1\n",
    "        avg = sum(sma) / float(n)\n",
    "        imf_avgs.append(avg)\n",
    "    \n",
    "    # 3. update the model with the observed event\n",
    "    imf.update(u_index, i_index)\n",
    "    \n",
    "    ### end timer\n",
    "    elapsed_time = time.clock() - start\n",
    "    imf_times.append(elapsed_time)\n",
    "    \n",
    "    history_mat[u_index, i_index] = 1"
   ]
  },
  {
   "cell_type": "code",
   "execution_count": 42,
   "metadata": {
    "collapsed": false
   },
   "outputs": [
    {
     "data": {
      "image/png": "[encoded data removed]",
      "text/plain": [
       "<matplotlib.figure.Figure at 0x10470b590>"
      ]
     },
     "metadata": {},
     "output_type": "display_data"
    }
   ],
   "source": [
    "fig, ax = plt.subplots()\n",
    "ax.plot(range(len(imf_avgs)), imf_avgs)\n",
    "plot_setting(fig, ax)"
   ]
  },
  {
   "cell_type": "code",
   "execution_count": 131,
   "metadata": {
    "collapsed": false
   },
   "outputs": [
    {
     "data": {
      "text/plain": [
       "0.00063446674362601654"
      ]
     },
     "execution_count": 131,
     "metadata": {},
     "output_type": "execute_result"
    }
   ],
   "source": [
    "np.average(imf_times)"
   ]
  },
  {
   "cell_type": "markdown",
   "metadata": {},
   "source": [
    "### Incremental Biased Matrix Factorization (Biased-iMF)\n",
    "\n",
    "As one specific case of Factorization Machines.\n",
    "\n",
    "Regularization parameters for the bias terms are updated adaptively."
   ]
  },
  {
   "cell_type": "code",
   "execution_count": 103,
   "metadata": {
    "collapsed": false
   },
   "outputs": [],
   "source": [
    "# initialize\n",
    "ibmf = IncrementalBiasedMF(n_user, n_item, k=100, l2_reg_w0=.01, l2_reg_w=.01, l2_reg_V=.01, learn_rate=.03)\n",
    "history_mat = np.zeros((n_user, n_item))\n",
    "ibmf_avgs, ibmf_times, sma = [], [], []"
   ]
  },
  {
   "cell_type": "code",
   "execution_count": 104,
   "metadata": {
    "collapsed": false
   },
   "outputs": [
    {
     "name": "stdout",
     "output_type": "stream",
     "text": [
      "CPU times: user 12.5 s, sys: 110 ms, total: 12.7 s\n",
      "Wall time: 12.9 s\n"
     ]
    },
    {
     "name": "stderr",
     "output_type": "stream",
     "text": [
      "incremental_biasedMF.py:45: FutureWarning: comparison to `None` will result in an elementwise object comparison in the future.\n",
      "  if prev_w0 != None and prev_w != None:\n"
     ]
    }
   ],
   "source": [
    "%%time\n",
    "\n",
    "prev_w0 = prev_w = None\n",
    "\n",
    "# to avoid cold-start, train initial 20% samples\n",
    "for ri in xrange(n_train):\n",
    "    u, i, rating, timestamp = ratings[ri]\n",
    "    u_index = users.index(u)\n",
    "    i_index = items.index(i)\n",
    "    prev_w0, prev_w = ibmf.update(u_index, i_index, prev_w0, prev_w)\n",
    "    history_mat[u_index, i_index] = 1"
   ]
  },
  {
   "cell_type": "code",
   "execution_count": 105,
   "metadata": {
    "collapsed": false
   },
   "outputs": [
    {
     "name": "stdout",
     "output_type": "stream",
     "text": [
      "CPU times: user 2min 29s, sys: 7.53 s, total: 2min 37s\n",
      "Wall time: 2min 24s\n"
     ]
    }
   ],
   "source": [
    "%%time\n",
    "\n",
    "for ri in xrange(n_train, n_ratings):\n",
    "    u, i, rating, timestamp = ratings[ri]\n",
    "    u_index = users.index(u)\n",
    "    i_index = items.index(i)\n",
    "    \n",
    "    ### start timer\n",
    "    start = time.clock()\n",
    "    \n",
    "    # 1.\n",
    "    if u_index in ibmf.known_users:\n",
    "        # If u is a known user, use the current model to recommend N items,\n",
    "        recos = ibmf.recommend(u_index, N, history_mat[u_index])\n",
    "        \n",
    "        # 2. Score the recommendation list given the true observed item i\n",
    "        recall = 1 if (i_index in recos) else 0\n",
    "        \n",
    "        sma.append(recall)\n",
    "        n = len(sma)\n",
    "        if n > window_size: \n",
    "            del sma[0]\n",
    "            n -= 1\n",
    "        avg = sum(sma) / float(n)\n",
    "        ibmf_avgs.append(avg)\n",
    "    \n",
    "    # 3. update the model with the observed event\n",
    "    prev_w0, prev_w = ibmf.update(u_index, i_index, prev_w0, prev_w)\n",
    "    \n",
    "    ### end timer\n",
    "    elapsed_time = time.clock() - start\n",
    "    ibmf_times.append(elapsed_time)\n",
    "    \n",
    "    history_mat[u_index, i_index] = 1"
   ]
  },
  {
   "cell_type": "code",
   "execution_count": 130,
   "metadata": {
    "collapsed": false
   },
   "outputs": [
    {
     "data": {
      "text/plain": [
       "0.00071246218682417969"
      ]
     },
     "execution_count": 130,
     "metadata": {},
     "output_type": "execute_result"
    }
   ],
   "source": [
    "np.average(ibmf_times)"
   ]
  },
  {
   "cell_type": "markdown",
   "metadata": {},
   "source": [
    "### Incremental Factorization Machines\n",
    "\n",
    "Naive implementation of FMs in incremental fashion"
   ]
  },
  {
   "cell_type": "code",
   "execution_count": 123,
   "metadata": {
    "collapsed": true
   },
   "outputs": [],
   "source": [
    "# initialize\n",
    "ifms = IncrementalFMs(n_user, n_item, k=100, l2_reg_w0=.01, l2_reg_w=.01, l2_reg_V=.01, learn_rate=.03)\n",
    "history_mat = np.zeros((n_user, n_item))\n",
    "ifms_avgs, ifms_times, sma = [], [], []"
   ]
  },
  {
   "cell_type": "code",
   "execution_count": 124,
   "metadata": {
    "collapsed": false
   },
   "outputs": [
    {
     "name": "stdout",
     "output_type": "stream",
     "text": [
      "CPU times: user 4min 26s, sys: 43.6 s, total: 5min 10s\n",
      "Wall time: 5min 13s\n"
     ]
    },
    {
     "name": "stderr",
     "output_type": "stream",
     "text": [
      "incremental_FMs.py:50: FutureWarning: comparison to `None` will result in an elementwise object comparison in the future.\n",
      "  if prev_w0 != None and prev_w != None:\n"
     ]
    }
   ],
   "source": [
    "%%time\n",
    "\n",
    "prev_w0 = prev_w = None\n",
    "\n",
    "# to avoid cold-start, train initial 20% samples\n",
    "for ri in xrange(n_train):\n",
    "    u, i, rating, timestamp = ratings[ri]\n",
    "    u_index = users.index(u)\n",
    "    i_index = items.index(i)\n",
    "    prev_w0, prev_w = ifms.update(u_index, i_index, prev_w0, prev_w)\n",
    "    history_mat[u_index, i_index] = 1"
   ]
  },
  {
   "cell_type": "code",
   "execution_count": 127,
   "metadata": {
    "collapsed": false
   },
   "outputs": [
    {
     "name": "stdout",
     "output_type": "stream",
     "text": [
      "CPU times: user 19min 53s, sys: 4min 1s, total: 23min 54s\n",
      "Wall time: 23min 31s\n"
     ]
    }
   ],
   "source": [
    "%%time\n",
    "\n",
    "for ri in xrange(n_train, n_ratings):\n",
    "    u, i, rating, timestamp = ratings[ri]\n",
    "    u_index = users.index(u)\n",
    "    i_index = items.index(i)\n",
    "    \n",
    "    ### start timer\n",
    "    start = time.clock()\n",
    "    \n",
    "    # 1.\n",
    "    if u_index in ifms.known_users:\n",
    "        # If u is a known user, use the current model to recommend N items,\n",
    "        recos = ifms.recommend(u_index, N, history_mat[u_index])\n",
    "        \n",
    "        # 2. Score the recommendation list given the true observed item i\n",
    "        recall = 1 if (i_index in recos) else 0\n",
    "        \n",
    "        sma.append(recall)\n",
    "        n = len(sma)\n",
    "        if n > window_size: \n",
    "            del sma[0]\n",
    "            n -= 1\n",
    "        avg = sum(sma) / float(n)\n",
    "        ifms_avgs.append(avg)\n",
    "    \n",
    "    # 3. update the model with the observed event\n",
    "    prev_w0, prev_w = ifms.update(u_index, i_index, prev_w0, prev_w)\n",
    "    \n",
    "    ### end timer\n",
    "    elapsed_time = time.clock() - start\n",
    "    ifms_times.append(elapsed_time)\n",
    "    \n",
    "    history_mat[u_index, i_index] = 1"
   ]
  },
  {
   "cell_type": "code",
   "execution_count": 128,
   "metadata": {
    "collapsed": false
   },
   "outputs": [
    {
     "data": {
      "text/plain": [
       "0.0081875692578756119"
      ]
     },
     "execution_count": 128,
     "metadata": {},
     "output_type": "execute_result"
    }
   ],
   "source": [
    "np.average(ifms_times)"
   ]
  },
  {
   "cell_type": "markdown",
   "metadata": {},
   "source": [
    "### Compare the result"
   ]
  },
  {
   "cell_type": "code",
   "execution_count": 134,
   "metadata": {
    "collapsed": false
   },
   "outputs": [
    {
     "data": {
      "image/png": "[encoded data removed]",
      "text/plain": [
       "<matplotlib.figure.Figure at 0x1265fc890>"
      ]
     },
     "metadata": {},
     "output_type": "display_data"
    }
   ],
   "source": [
    "fig, ax = plt.subplots()\n",
    "ax.plot(range(len(base_avgs)), base_avgs, label='Batch (%.5f sec.)' % np.average(base_times))\n",
    "ax.plot(range(len(imf_avgs)), imf_avgs, label='iMF (%.5f sec.)' % np.average(imf_times))\n",
    "ax.plot(range(len(ifms_avgs)), ifms_avgs, label='iFMs (%.5f sec.)' % np.average(ifms_times))\n",
    "ax.plot(range(len(ibmf_avgs)), ibmf_avgs, label='Biased-iMF (%.5f sec.)' % np.average(ibmf_times))\n",
    "ax.legend()\n",
    "plot_setting(fig, ax)\n",
    "\n",
    "fig.savefig('../../paper/images/ml-1m-recall-evolve.pdf')"
   ]
  },
  {
   "cell_type": "code",
   "execution_count": null,
   "metadata": {
    "collapsed": true
   },
   "outputs": [],
   "source": []
  }
 ],
 "metadata": {
  "kernelspec": {
   "display_name": "Python 2",
   "language": "python",
   "name": "python2"
  },
  "language_info": {
   "codemirror_mode": {
    "name": "ipython",
    "version": 2
   },
   "file_extension": ".py",
   "mimetype": "text/x-python",
   "name": "python",
   "nbconvert_exporter": "python",
   "pygments_lexer": "ipython2",
   "version": "2.7.11"
  }
 },
 "nbformat": 4,
 "nbformat_minor": 0
}
