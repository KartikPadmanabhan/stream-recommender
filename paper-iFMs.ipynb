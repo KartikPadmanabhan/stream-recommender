{
 "cells": [
  {
   "cell_type": "markdown",
   "metadata": {},
   "source": [
    "# Incremental Factorization Machines"
   ]
  },
  {
   "cell_type": "code",
   "execution_count": 1,
   "metadata": {
    "collapsed": false
   },
   "outputs": [],
   "source": [
    "import matplotlib as mpl \n",
    "mpl.use(\"pgf\") \n",
    "pgf_with_rc_fonts = {\n",
    "    \"font.serif\": [],\n",
    "}\n",
    "\n",
    "import numpy as np\n",
    "import pandas as pd\n",
    "\n",
    "%matplotlib inline\n",
    "import matplotlib.pyplot as plt\n",
    "from matplotlib import gridspec\n",
    "\n",
    "mpl.rcParams['pdf.fonttype'] = 42\n",
    "mpl.rcParams['ps.fonttype'] = 42\n",
    "mpl.rcParams['axes.labelsize'] = 'large'\n",
    "mpl.rcParams['axes.facecolor'] = 'w'"
   ]
  },
  {
   "cell_type": "code",
   "execution_count": 2,
   "metadata": {
    "collapsed": false
   },
   "outputs": [],
   "source": [
    "%load_ext autoreload\n",
    "%autoreload 2\n",
    "from experiment import Runner"
   ]
  },
  {
   "cell_type": "code",
   "execution_count": 497,
   "metadata": {
    "collapsed": false
   },
   "outputs": [
    {
     "name": "stderr",
     "output_type": "stream",
     "text": [
      "[exp] click | window_size = 5000, n_epoch = 1\n",
      "[exp] click | window_size = 5000, n_epoch = 1\n",
      "[exp] click | window_size = 5000, n_epoch = 1\n",
      "[exp] click | window_size = 5000, n_epoch = 1\n",
      "[exp] click | window_size = 5000, n_epoch = 1\n",
      "[exp] click | window_size = 5000, n_epoch = 1\n",
      "[exp] click | window_size = 5000, n_epoch = 1\n",
      "[exp] n_sample = 3570; 714 (20%) + 357 (10%) + 2499 (70%)\n",
      "[exp] n_sample = 3570; 714 (20%) + 357 (10%) + 2499 (70%)\n",
      "[exp] n_sample = 3570; 714 (20%) + 357 (10%) + 2499 (70%)\n",
      "[exp] n_sample = 3570; 714 (20%) + 357 (10%) + 2499 (70%)\n",
      "[exp] n_sample = 3570; 714 (20%) + 357 (10%) + 2499 (70%)\n",
      "[exp] n_sample = 3570; 714 (20%) + 357 (10%) + 2499 (70%)\n",
      "[exp] n_sample = 3570; 714 (20%) + 357 (10%) + 2499 (70%)\n",
      "[exp] n_user = 3570, n_item = 5\n",
      "[exp] n_user = 3570, n_item = 5\n",
      "[exp] n_user = 3570, n_item = 5\n",
      "[exp] n_user = 3570, n_item = 5\n",
      "[exp] n_user = 3570, n_item = 5\n",
      "[exp] n_user = 3570, n_item = 5\n",
      "[exp] n_user = 3570, n_item = 5\n"
     ]
    }
   ],
   "source": [
    "exp_click = Runner(dataset='click')"
   ]
  },
  {
   "cell_type": "code",
   "execution_count": 498,
   "metadata": {
    "collapsed": false
   },
   "outputs": [
    {
     "name": "stderr",
     "output_type": "stream",
     "text": [
      "[exp] ML1M | window_size = 5000, n_epoch = 1\n",
      "[exp] ML1M | window_size = 5000, n_epoch = 1\n",
      "[exp] ML1M | window_size = 5000, n_epoch = 1\n",
      "[exp] ML1M | window_size = 5000, n_epoch = 1\n",
      "[exp] ML1M | window_size = 5000, n_epoch = 1\n",
      "[exp] ML1M | window_size = 5000, n_epoch = 1\n",
      "[exp] ML1M | window_size = 5000, n_epoch = 1\n",
      "[exp] n_sample = 226310; 45262 (20%) + 22631 (10%) + 158417 (70%)\n",
      "[exp] n_sample = 226310; 45262 (20%) + 22631 (10%) + 158417 (70%)\n",
      "[exp] n_sample = 226310; 45262 (20%) + 22631 (10%) + 158417 (70%)\n",
      "[exp] n_sample = 226310; 45262 (20%) + 22631 (10%) + 158417 (70%)\n",
      "[exp] n_sample = 226310; 45262 (20%) + 22631 (10%) + 158417 (70%)\n",
      "[exp] n_sample = 226310; 45262 (20%) + 22631 (10%) + 158417 (70%)\n",
      "[exp] n_sample = 226310; 45262 (20%) + 22631 (10%) + 158417 (70%)\n",
      "[exp] n_user = 6014, n_item = 3232\n",
      "[exp] n_user = 6014, n_item = 3232\n",
      "[exp] n_user = 6014, n_item = 3232\n",
      "[exp] n_user = 6014, n_item = 3232\n",
      "[exp] n_user = 6014, n_item = 3232\n",
      "[exp] n_user = 6014, n_item = 3232\n",
      "[exp] n_user = 6014, n_item = 3232\n"
     ]
    }
   ],
   "source": [
    "exp_ML1M = Runner(dataset='ML1M')"
   ]
  },
  {
   "cell_type": "code",
   "execution_count": 4,
   "metadata": {
    "collapsed": false
   },
   "outputs": [
    {
     "name": "stderr",
     "output_type": "stream",
     "text": [
      "[exp] ML100k | window_size = 5000, n_epoch = 1\n",
      "[exp] n_sample = 21201; 4240 (20%) + 2120 (10%) + 14841 (70%)\n",
      "[exp] n_user = 928, n_item = 1172\n"
     ]
    }
   ],
   "source": [
    "exp_ML100k = Runner(dataset='ML100k')"
   ]
  },
  {
   "cell_type": "code",
   "execution_count": 298,
   "metadata": {
    "collapsed": false
   },
   "outputs": [
    {
     "name": "stderr",
     "output_type": "stream",
     "text": [
      "[exp] LastFM | window_size = 5000, n_epoch = 1\n",
      "[exp] LastFM | window_size = 5000, n_epoch = 1\n",
      "[exp] LastFM | window_size = 5000, n_epoch = 1\n",
      "[exp] LastFM | window_size = 5000, n_epoch = 1\n",
      "[exp] LastFM | window_size = 5000, n_epoch = 1\n",
      "[exp] n_sample = 159798; 31959 (20%) + 15979 (10%) + 111860 (70%)\n",
      "[exp] n_sample = 159798; 31959 (20%) + 15979 (10%) + 111860 (70%)\n",
      "[exp] n_sample = 159798; 31959 (20%) + 15979 (10%) + 111860 (70%)\n",
      "[exp] n_sample = 159798; 31959 (20%) + 15979 (10%) + 111860 (70%)\n",
      "[exp] n_sample = 159798; 31959 (20%) + 15979 (10%) + 111860 (70%)\n",
      "[exp] n_user = 92, n_item = 51072\n",
      "[exp] n_user = 92, n_item = 51072\n",
      "[exp] n_user = 92, n_item = 51072\n",
      "[exp] n_user = 92, n_item = 51072\n",
      "[exp] n_user = 92, n_item = 51072\n"
     ]
    }
   ],
   "source": [
    "exp_lastfm = Runner(dataset='LastFM')"
   ]
  },
  {
   "cell_type": "markdown",
   "metadata": {},
   "source": [
    "### Plot-related preparation"
   ]
  },
  {
   "cell_type": "code",
   "execution_count": 5,
   "metadata": {
    "collapsed": false
   },
   "outputs": [],
   "source": [
    "# http://public.tableau.com/profile/chris.gerrard#!/vizhome/TableauColors/ColorPaletteswithRGBValues\n",
    "colors = [(31, 119, 180), (174, 199, 232), (255, 127, 14), (255, 187, 120),\n",
    "          (44, 160, 44), (152, 223, 138), (214, 39, 40), (255, 152, 150),  \n",
    "          (148, 103, 189), (197, 176, 213), (140, 86, 75), (196, 156, 148),   \n",
    "          (227, 119, 194), (247, 182, 210), (127, 127, 127), (199, 199, 199),\n",
    "          (188, 189, 34), (219, 219, 141), (23, 190, 207), (158, 218, 229)]\n",
    "\n",
    "# [0, 255] -> [0.0, 1.0]\n",
    "for i in range(len(colors)): \n",
    "    r, g, b = colors[i]    \n",
    "    colors[i] = (r / 255., g / 255., b / 255.) \n",
    "\n",
    "# colors[14], colors[0], colors[4], colors[2], colors[6]"
   ]
  },
  {
   "cell_type": "code",
   "execution_count": 142,
   "metadata": {
    "collapsed": false
   },
   "outputs": [],
   "source": [
    "def plot_setting(fig, ax, head=0, T=5000):\n",
    "    ax.set_xlabel('sample index', fontsize=11)\n",
    "    ax.set_ylabel(r'recall@10/%d' % T, fontsize=11)\n",
    "    ax.yaxis.grid(True)\n",
    "    ax.set_yticks([0.00, 0.025, 0.05, 0.075, 0.10, 0.125, 0.15])\n",
    "    ax.set_ylim([0.0, 0.15])\n",
    "    \n",
    "    # 30% pre-train | 70% evaluate\n",
    "    # ax.axvline(x=head, linewidth=1, linestyle=':', color=colors[14])\n",
    "    \n",
    "    # head-of-evaluate | first T samples (1st window)\n",
    "    ax.axvline(x=(head + T - 1), linewidth=1, linestyle=':', color=colors[14])\n",
    "    \n",
    "    fig.set_size_inches((5.5, 3))\n",
    "    fig.patch.set_alpha(0.0)"
   ]
  },
  {
   "cell_type": "code",
   "execution_count": 101,
   "metadata": {
    "collapsed": true
   },
   "outputs": [],
   "source": [
    "def read_result(dirname, dataset, method, T, n_trial):\n",
    "    t_reco = t_update = 0.\n",
    "    recalls = []\n",
    "    \n",
    "    for trial in range(1, n_trial + 1):\n",
    "        path = dirname + '/' + '_'.join([dataset, method, T, str(trial)]) + '.txt'\n",
    "        with open(path) as f:\n",
    "            lines = list(map(lambda l: float(l.rstrip()), f.readlines()))\n",
    "            t_reco += lines[0]\n",
    "            t_update += lines[1]\n",
    "            recalls.append(lines[2:])\n",
    "            \n",
    "    return {'t_reco': t_reco / n_trial, 't_update': t_update / n_trial, 'recalls': recalls}"
   ]
  },
  {
   "cell_type": "markdown",
   "metadata": {},
   "source": [
    "## Synthetic Click"
   ]
  },
  {
   "cell_type": "code",
   "execution_count": 491,
   "metadata": {
    "collapsed": true
   },
   "outputs": [],
   "source": [
    "## k=2, reg_w0=2., reg_w=8., reg_V=16., lr=0.001, epoch=1\n",
    "click_staticFMs = read_result('results/recprofile', 'click', 'static-FMs', '500', 5)\n",
    "click_iFMs = read_result('results/recprofile', 'click', 'iFMs', '500', 5)\n",
    "\n",
    "## k=2, reg=0.01, lr=0.001, epoch=100\n",
    "click_staticMF = read_result('results/recprofile', 'click', 'static-MF', '500', 5)\n",
    "click_iMF = read_result('results/recprofile', 'click', 'iMF', '500', 5)"
   ]
  },
  {
   "cell_type": "code",
   "execution_count": 495,
   "metadata": {
    "collapsed": false
   },
   "outputs": [
    {
     "name": "stdout",
     "output_type": "stream",
     "text": [
      "static MF\n",
      "=========\n",
      "avg. reco time      = 2.5175e-05\n",
      "avg. update time    = ---\n",
      "recall: mean (±std) = 0.1954 (±0.1052)\n",
      "\n",
      "iMF\n",
      "===\n",
      "avg. reco time      = 2.3341e-05\n",
      "avg. update time    = 2.3819e-05\n",
      "recall: mean (±std) = 0.2068 (±0.0977)\n",
      "\n",
      "static FMs\n",
      "==========\n",
      "avg. reco time      = 3.7118e-03\n",
      "avg. update time    = ---\n",
      "recall: mean (±std) = 0.2706 (±0.2481)\n",
      "\n",
      "iFMs\n",
      "====\n",
      "avg. reco time      = 3.4838e-03\n",
      "avg. update time    = 6.7094e-04\n",
      "recall: mean (±std) = 0.2708 (±0.2479)\n",
      "\n"
     ]
    },
    {
     "data": {
      "image/png": "[encoded data removed]",
      "text/plain": [
       "<matplotlib.figure.Figure at 0x11bb6f2e8>"
      ]
     },
     "metadata": {},
     "output_type": "display_data"
    }
   ],
   "source": [
    "fig, ax = plt.subplots()\n",
    "\n",
    "# plot incremental recall\n",
    "offset = exp_click.data.n_batch_train + exp_click.data.n_batch_test\n",
    "x = np.arange(exp_click.data.n_sample - offset) + offset\n",
    "\n",
    "best = np.argsort([sum(l) for l in click_staticMF['recalls']])[-1]\n",
    "ax.plot(x, click_staticMF['recalls'][best], c=colors[4], label='static MF')\n",
    "ax.text(950, 0.2, 'static MF', color=colors[4], fontsize=12, fontweight='bold', horizontalalignment='right')\n",
    "print('static MF')\n",
    "print('=========')\n",
    "print('avg. reco time      = %.4e' % click_staticMF['t_reco'])\n",
    "print('avg. update time    = ---') \n",
    "print('recall: mean (±std) = %.4f (±%.4f)' % (np.mean(click_staticMF['recalls']), np.std(click_staticMF['recalls'])))\n",
    "print()\n",
    "\n",
    "best = np.argsort([sum(l) for l in click_iMF['recalls']])[-1]\n",
    "ax.plot(x, click_iMF['recalls'][best], c=colors[0], label='iMF')\n",
    "ax.text(950, 0.3, 'iMF', color=colors[0], fontsize=12, fontweight='bold', horizontalalignment='right')\n",
    "print('iMF')\n",
    "print('===')\n",
    "print('avg. reco time      = %.4e' % click_iMF['t_reco'])\n",
    "print('avg. update time    = %.4e' % click_iMF['t_update']) \n",
    "print('recall: mean (±std) = %.4f (±%.4f)' % (np.mean(click_iMF['recalls']), np.std(click_iMF['recalls'])))\n",
    "print()\n",
    "\n",
    "best = np.argsort([sum(l) for l in click_staticFMs['recalls']])[-1]\n",
    "ax.plot(x, click_staticFMs['recalls'][best], c=colors[2], label='static FMs')\n",
    "ax.text(950, 0.55, 'static FMs', color=colors[2], fontsize=12, fontweight='bold', horizontalalignment='right')\n",
    "print('static FMs')\n",
    "print('==========')\n",
    "print('avg. reco time      = %.4e' % click_staticFMs['t_reco'])\n",
    "print('avg. update time    = ---') \n",
    "print('recall: mean (±std) = %.4f (±%.4f)' % (np.mean(click_staticFMs['recalls']), np.std(click_staticFMs['recalls'])))\n",
    "print()\n",
    "\n",
    "best = np.argsort([sum(l) for l in click_iFMs['recalls']])[-1]\n",
    "ax.plot(x, click_iFMs['recalls'][best], c=colors[6], label='iFMs')\n",
    "ax.text(950, 0.6, 'iFMs', color=colors[6], fontsize=12, fontweight='bold', horizontalalignment='right')\n",
    "print('iFMs')\n",
    "print('====')\n",
    "print('avg. reco time      = %.4e' % click_iFMs['t_reco'])\n",
    "print('avg. update time    = %.4e' % click_iFMs['t_update']) \n",
    "print('recall: mean (±std) = %.4f (±%.4f)' % (np.mean(click_iFMs['recalls']), np.std(click_iFMs['recalls'])))\n",
    "print()\n",
    "\n",
    "plot_setting(fig, ax, head=(offset - 1), T=500)\n",
    "\n",
    "ax.set_title(r'Synthetic click ($T$ = 500, at = 1)')\n",
    "ax.set_xlim((0, exp_click.data.n_sample - 1))\n",
    "# ax.set_xticks([0, 5000, 10000, 15000, 20000])\n",
    "ax.set_yticks([.1, .2, .3, .4, .5, .6, .7, .8])\n",
    "ax.set_ylim([0.0, 0.8])\n",
    "\n",
    "ax.patch.set_visible(False)\n",
    "fig.set_size_inches((5.5, 3))\n",
    "\n",
    "plt.tight_layout()\n",
    "# fig.savefig('../../paper/images/recprofile/ml-100k-recall.eps')"
   ]
  },
  {
   "cell_type": "markdown",
   "metadata": {},
   "source": [
    "## MovieLens"
   ]
  },
  {
   "cell_type": "code",
   "execution_count": 500,
   "metadata": {
    "collapsed": false,
    "scrolled": true
   },
   "outputs": [
    {
     "data": {
      "text/plain": [
       "1038"
      ]
     },
     "execution_count": 500,
     "metadata": {},
     "output_type": "execute_result"
    }
   ],
   "source": [
    "max_dt = exp_ML1M.data.dts[-1]\n",
    "max_dt"
   ]
  },
  {
   "cell_type": "code",
   "execution_count": 502,
   "metadata": {
    "collapsed": false
   },
   "outputs": [],
   "source": [
    "hist_u1 = np.zeros(max_dt + 1)\n",
    "hist_u2 = np.zeros(max_dt + 1)\n",
    "hist_u3 = np.zeros(max_dt + 1)\n",
    "\n",
    "for i, d in enumerate(exp_ML1M.data.samples):\n",
    "    dt = exp_ML1M.data.dts[i]\n",
    "    if d['u_index'] == 32:\n",
    "        hist_u1[dt] += 1\n",
    "    elif d['u_index'] == 2016:\n",
    "        hist_u2[dt] += 1\n",
    "    elif d['u_index'] == 6008:\n",
    "        hist_u3[dt] += 1"
   ]
  },
  {
   "cell_type": "code",
   "execution_count": 503,
   "metadata": {
    "collapsed": false
   },
   "outputs": [
    {
     "data": {
      "image/png": "[encoded data removed]",
      "text/plain": [
       "<matplotlib.figure.Figure at 0x11a7f5160>"
      ]
     },
     "metadata": {},
     "output_type": "display_data"
    }
   ],
   "source": [
    "fig, ax = plt.subplots()\n",
    "\n",
    "ax.set_xlim([-32, max_dt + 1])\n",
    "ax.grid(True)\n",
    "\n",
    "x = np.arange(max_dt + 1)\n",
    "\n",
    "ax.plot(x, hist_u1, label='user 1', color=colors[0], lw=1., marker='o', mew=0.)\n",
    "ax.plot(x, hist_u2, label='user 2', color=colors[2], lw=1., marker='s', mew=0.)\n",
    "ax.plot(x, hist_u3, label='user 3', color=colors[4], lw=1., marker='D', mew=0.)\n",
    "\n",
    "ax.set_xlabel('elapsed days')\n",
    "ax.set_ylabel('# of positive events')\n",
    "ax.legend(loc='upper right').get_frame().set_facecolor('white')\n",
    "\n",
    "fig.set_size_inches((5.5, 3))\n",
    "fig.patch.set_alpha(0.0)\n",
    "\n",
    "ax.set_yticks([1, 5, 10, 15, 20, 25, 30])\n",
    "ax.set_ylim([1., 32])\n",
    "\n",
    "plt.tight_layout()\n",
    "fig.savefig('../../paper/images/recprofile/ml-user-activity.eps')"
   ]
  },
  {
   "cell_type": "markdown",
   "metadata": {},
   "source": [
    "### ML1M\n",
    "\n",
    "$T=9000$"
   ]
  },
  {
   "cell_type": "code",
   "execution_count": 504,
   "metadata": {
    "collapsed": false
   },
   "outputs": [],
   "source": [
    "## k=40, reg_w0=2., reg_w=8., reg_V=16., lr=0.004, epoch=2\n",
    "# ML100k_staticFMs = read_result('results/recprofile', 'ML100k', 'static-FMs', '3000', 5)\n",
    "ML1M_iFMs = read_result('results', 'ML1M', 'iFMs', '9000', 1)\n",
    "\n",
    "## k=40, reg=0.01, lr=0.003, epoch=10\n",
    "ML1M_staticMF = read_result('results/recprofile', 'ML1M', 'static-MF', '9000', 1)\n",
    "ML1M_iMF = read_result('results/recprofile', 'ML1M', 'iMF', '9000', 1)"
   ]
  },
  {
   "cell_type": "code",
   "execution_count": 505,
   "metadata": {
    "collapsed": false
   },
   "outputs": [
    {
     "name": "stdout",
     "output_type": "stream",
     "text": [
      "static MF\n",
      "=========\n",
      "avg. reco time      = 7.3361e-04\n",
      "avg. update time    = ---\n",
      "recall: mean (±std) = 0.0147 (±0.0025)\n",
      "\n",
      "iMF\n",
      "===\n",
      "avg. reco time      = 7.0758e-04\n",
      "avg. update time    = 3.9649e-05\n",
      "recall: mean (±std) = 0.0336 (±0.0038)\n",
      "\n",
      "iFMs\n",
      "====\n",
      "avg. reco time      = 2.8994e-01\n",
      "avg. update time    = 5.9412e-03\n",
      "recall: mean (±std) = 0.0141 (±0.0025)\n",
      "\n"
     ]
    },
    {
     "data": {
      "image/png": "[encoded data removed]",
      "text/plain": [
       "<matplotlib.figure.Figure at 0x11e7039e8>"
      ]
     },
     "metadata": {},
     "output_type": "display_data"
    }
   ],
   "source": [
    "fig, ax = plt.subplots()\n",
    "\n",
    "# plot incremental recall\n",
    "offset = exp_ML1M.data.n_batch_train + exp_ML1M.data.n_batch_test\n",
    "x = np.arange(exp_ML1M.data.n_sample - offset) + offset\n",
    "\n",
    "best = np.argsort([sum(l) for l in ML1M_staticMF['recalls']])[-1]\n",
    "ax.plot(x, ML1M_staticMF['recalls'][best], c=colors[4], lw=.8, label='static MF')\n",
    "ax.text(5000, 0.0125, 'static MF', color=colors[4], fontsize=12, fontweight='bold', horizontalalignment='right')\n",
    "print('static MF')\n",
    "print('=========')\n",
    "print('avg. reco time      = %.4e' % ML1M_staticMF['t_reco'])\n",
    "print('avg. update time    = ---') \n",
    "print('recall: mean (±std) = %.4f (±%.4f)' % (np.mean(ML1M_staticMF['recalls']), np.std(ML1M_staticMF['recalls'])))\n",
    "print()\n",
    "\n",
    "best = np.argsort([sum(l) for l in ML1M_iMF['recalls']])[-1]\n",
    "ax.plot(x, ML1M_iMF['recalls'][best], c=colors[0], lw=.8, label='iMF')\n",
    "ax.text(5000, 0.03, 'iMF', color=colors[0], fontsize=12, fontweight='bold', horizontalalignment='right')\n",
    "print('iMF')\n",
    "print('===')\n",
    "print('avg. reco time      = %.4e' % ML1M_iMF['t_reco'])\n",
    "print('avg. update time    = %.4e' % ML1M_iMF['t_update']) \n",
    "print('recall: mean (±std) = %.4f (±%.4f)' % (np.mean(ML1M_iMF['recalls']), np.std(ML1M_iMF['recalls'])))\n",
    "print()\n",
    "\n",
    "\"\"\"\n",
    "best = np.argsort([sum(l) for l in ML100k_staticFMs['recalls']])[-1]\n",
    "ax.plot(x, ML100k_staticFMs['recalls'][best], c=colors[2], label='static FMs')\n",
    "ax.text(5000, 0.02, 'static FMs', color=colors[2], fontsize=12, fontweight='bold', horizontalalignment='right')\n",
    "print('static FMs')\n",
    "print('==========')\n",
    "print('avg. reco time      = %.4e' % ML100k_staticFMs['t_reco'])\n",
    "print('avg. update time    = ---') \n",
    "print('recall: mean (±std) = %.4f (±%.4f)' % (np.mean(ML100k_staticFMs['recalls']), np.std(ML100k_staticFMs['recalls'])))\n",
    "print()\n",
    "\"\"\"\n",
    "\n",
    "best = np.argsort([sum(l) for l in ML1M_iFMs['recalls']])[-1]\n",
    "ax.plot(x, ML1M_iFMs['recalls'][best], c=colors[6], label='iFMs')\n",
    "ax.text(5000, 0.0375, 'iFMs', color=colors[6], fontsize=12, fontweight='bold', horizontalalignment='right')\n",
    "print('iFMs')\n",
    "print('====')\n",
    "print('avg. reco time      = %.4e' % ML1M_iFMs['t_reco'])\n",
    "print('avg. update time    = %.4e' % ML1M_iFMs['t_update']) \n",
    "print('recall: mean (±std) = %.4f (±%.4f)' % (np.mean(ML1M_iFMs['recalls']), np.std(ML1M_iFMs['recalls'])))\n",
    "print()\n",
    "\n",
    "plot_setting(fig, ax, head=(offset - 1), T=9000)\n",
    "\n",
    "ax.set_title(r'ML1M ($T$ = 9000)')\n",
    "ax.set_xlim((0, exp_ML1M.data.n_sample - 1))\n",
    "ax.set_yticks([0.00, 0.01, 0.02, 0.03, 0.04, 0.05])\n",
    "ax.set_ylim([0.0, 0.05])\n",
    "\n",
    "ax.patch.set_visible(False)\n",
    "fig.set_size_inches((5.5, 3))\n",
    "\n",
    "plt.tight_layout()\n",
    "# fig.savefig('../../paper/images/recprofile/ml-100k-recall.eps')"
   ]
  },
  {
   "cell_type": "markdown",
   "metadata": {},
   "source": [
    "### ML100k\n",
    "\n",
    "$T=3000$"
   ]
  },
  {
   "cell_type": "code",
   "execution_count": 276,
   "metadata": {
    "collapsed": false
   },
   "outputs": [],
   "source": [
    "## k=40, reg_w0=2., reg_w=8., reg_V=16., lr=0.004, epoch=3\n",
    "ML100k_staticFMs = read_result('results/recprofile', 'ML100k', 'static-FMs', '3000', 5)\n",
    "ML100k_iFMs = read_result('results/recprofile', 'ML100k', 'iFMs', '3000', 5)\n",
    "\n",
    "## k=40, reg=0.01, lr=0.003, epoch=20\n",
    "ML100k_staticMF = read_result('results/recprofile', 'ML100k', 'static-MF', '3000', 5)\n",
    "ML100k_iMF = read_result('results/recprofile', 'ML100k', 'iMF', '3000', 5)"
   ]
  },
  {
   "cell_type": "code",
   "execution_count": 255,
   "metadata": {
    "collapsed": false
   },
   "outputs": [
    {
     "name": "stdout",
     "output_type": "stream",
     "text": [
      "static MF\n",
      "=========\n",
      "avg. reco time      = 1.4982e-04\n",
      "avg. update time    = ---\n",
      "recall: mean (±std) = 0.0196 (±0.0038)\n",
      "\n",
      "iMF\n",
      "===\n",
      "avg. reco time      = 1.6872e-04\n",
      "avg. update time    = 3.2802e-05\n",
      "recall: mean (±std) = 0.0293 (±0.0088)\n",
      "\n",
      "static FMs\n",
      "==========\n",
      "avg. reco time      = 2.5303e-02\n",
      "avg. update time    = ---\n",
      "recall: mean (±std) = 0.0207 (±0.0077)\n",
      "\n",
      "iFMs\n",
      "====\n",
      "avg. reco time      = 2.6868e-02\n",
      "avg. update time    = 1.6431e-03\n",
      "recall: mean (±std) = 0.0340 (±0.0076)\n",
      "\n"
     ]
    },
    {
     "data": {
      "image/png": "[encoded data removed]",
      "text/plain": [
       "<matplotlib.figure.Figure at 0x11a829dd8>"
      ]
     },
     "metadata": {},
     "output_type": "display_data"
    }
   ],
   "source": [
    "fig, ax = plt.subplots()\n",
    "\n",
    "# plot incremental recall\n",
    "offset = exp_ML100k.data.n_batch_train + exp_ML100k.data.n_batch_test\n",
    "x = np.arange(exp_ML100k.data.n_sample - offset) + offset\n",
    "\n",
    "best = np.argsort([sum(l) for l in ML100k_staticMF['recalls']])[-1]\n",
    "ax.plot(x, ML100k_staticMF['recalls'][best], c=colors[4], label='static MF')\n",
    "ax.text(5000, 0.0125, 'static MF', color=colors[4], fontsize=12, fontweight='bold', horizontalalignment='right')\n",
    "print('static MF')\n",
    "print('=========')\n",
    "print('avg. reco time      = %.4e' % ML100k_staticMF['t_reco'])\n",
    "print('avg. update time    = ---') \n",
    "print('recall: mean (±std) = %.4f (±%.4f)' % (np.mean(ML100k_staticMF['recalls']), np.std(ML100k_staticMF['recalls'])))\n",
    "print()\n",
    "\n",
    "best = np.argsort([sum(l) for l in ML100k_iMF['recalls']])[-1]\n",
    "ax.plot(x, ML100k_iMF['recalls'][best], c=colors[0], label='iMF')\n",
    "ax.text(5000, 0.03, 'iMF', color=colors[0], fontsize=12, fontweight='bold', horizontalalignment='right')\n",
    "print('iMF')\n",
    "print('===')\n",
    "print('avg. reco time      = %.4e' % ML100k_iMF['t_reco'])\n",
    "print('avg. update time    = %.4e' % ML100k_iMF['t_update']) \n",
    "print('recall: mean (±std) = %.4f (±%.4f)' % (np.mean(ML100k_iMF['recalls']), np.std(ML100k_iMF['recalls'])))\n",
    "print()\n",
    "\n",
    "best = np.argsort([sum(l) for l in ML100k_staticFMs['recalls']])[-1]\n",
    "ax.plot(x, ML100k_staticFMs['recalls'][best], c=colors[2], label='static FMs')\n",
    "ax.text(5000, 0.02, 'static FMs', color=colors[2], fontsize=12, fontweight='bold', horizontalalignment='right')\n",
    "print('static FMs')\n",
    "print('==========')\n",
    "print('avg. reco time      = %.4e' % ML100k_staticFMs['t_reco'])\n",
    "print('avg. update time    = ---') \n",
    "print('recall: mean (±std) = %.4f (±%.4f)' % (np.mean(ML100k_staticFMs['recalls']), np.std(ML100k_staticFMs['recalls'])))\n",
    "print()\n",
    "\n",
    "best = np.argsort([sum(l) for l in ML100k_iFMs['recalls']])[-1]\n",
    "ax.plot(x, ML100k_iFMs['recalls'][best], c=colors[6], label='iFMs')\n",
    "ax.text(5000, 0.0375, 'iFMs', color=colors[6], fontsize=12, fontweight='bold', horizontalalignment='right')\n",
    "print('iFMs')\n",
    "print('====')\n",
    "print('avg. reco time      = %.4e' % ML100k_iFMs['t_reco'])\n",
    "print('avg. update time    = %.4e' % ML100k_iFMs['t_update']) \n",
    "print('recall: mean (±std) = %.4f (±%.4f)' % (np.mean(ML100k_iFMs['recalls']), np.std(ML100k_iFMs['recalls'])))\n",
    "print()\n",
    "\n",
    "plot_setting(fig, ax, head=(offset - 1), T=3000)\n",
    "\n",
    "ax.set_title(r'ML100k ($T$ = 3000)')\n",
    "ax.set_xlim((0, exp_ML100k.data.n_sample - 1))\n",
    "ax.set_xticks([0, 5000, 10000, 15000, 20000])\n",
    "ax.set_yticks([0.00, 0.01, 0.02, 0.03, 0.04, 0.05])\n",
    "ax.set_ylim([0.0, 0.05])\n",
    "\n",
    "ax.patch.set_visible(False)\n",
    "fig.set_size_inches((5.5, 3))\n",
    "\n",
    "plt.tight_layout()\n",
    "# fig.savefig('../../paper/images/recprofile/ml-100k-recall.eps')"
   ]
  },
  {
   "cell_type": "markdown",
   "metadata": {
    "collapsed": true
   },
   "source": [
    "## LastFM"
   ]
  },
  {
   "cell_type": "code",
   "execution_count": 506,
   "metadata": {
    "collapsed": false
   },
   "outputs": [
    {
     "data": {
      "text/plain": [
       "89"
      ]
     },
     "execution_count": 506,
     "metadata": {},
     "output_type": "execute_result"
    }
   ],
   "source": [
    "max_dt = exp_lastfm.data.dts[-1]\n",
    "max_dt"
   ]
  },
  {
   "cell_type": "code",
   "execution_count": 507,
   "metadata": {
    "collapsed": false
   },
   "outputs": [],
   "source": [
    "hist_i1 = np.zeros(max_dt + 1)\n",
    "hist_i2 = np.zeros(max_dt + 1)\n",
    "hist_i3 = np.zeros(max_dt + 1)\n",
    "\n",
    "for i, d in enumerate(exp_lastfm.data.samples):\n",
    "    dt = exp_lastfm.data.dts[i]\n",
    "    if d['i_index'] == 3092:\n",
    "        hist_i1[dt] += 1\n",
    "    elif d['i_index'] == 23142:\n",
    "        hist_i2[dt] += 1\n",
    "    elif d['i_index'] == 44517:\n",
    "        hist_i3[dt] += 1"
   ]
  },
  {
   "cell_type": "code",
   "execution_count": 508,
   "metadata": {
    "collapsed": false
   },
   "outputs": [
    {
     "data": {
      "image/png": "[encoded data removed]",
      "text/plain": [
       "<matplotlib.figure.Figure at 0x118046080>"
      ]
     },
     "metadata": {},
     "output_type": "display_data"
    }
   ],
   "source": [
    "fig, ax = plt.subplots()\n",
    "\n",
    "ax.set_xlim([-3, max_dt + 1])\n",
    "ax.grid(True)\n",
    "\n",
    "x = np.arange(max_dt + 1)\n",
    "\n",
    "ax.plot(x, hist_i1, label='item 1', color=colors[0], lw=1., marker='o', mew=0.)\n",
    "ax.plot(x, hist_i2, label='item 2', color=colors[2], lw=1., marker='s', mew=0.)\n",
    "ax.plot(x, hist_i3, label='item 3', color=colors[4], lw=1., marker='D', mew=0.)\n",
    "\n",
    "ax.set_xlabel('elapsed days')\n",
    "ax.set_ylabel('# of positive events')\n",
    "ax.legend(loc='upper right').get_frame().set_facecolor('white')\n",
    "\n",
    "fig.set_size_inches((5.5, 3))\n",
    "fig.patch.set_alpha(0.0)\n",
    "\n",
    "ax.set_yticks([1, 2, 3, 4])\n",
    "ax.set_ylim([.5, 4.5])\n",
    "\n",
    "plt.tight_layout()\n",
    "fig.savefig('../../paper/images/recprofile/lastfm-item.eps')"
   ]
  },
  {
   "cell_type": "code",
   "execution_count": null,
   "metadata": {
    "collapsed": true
   },
   "outputs": [],
   "source": []
  }
 ],
 "metadata": {
  "kernelspec": {
   "display_name": "Python 3",
   "language": "python",
   "name": "python3"
  },
  "language_info": {
   "codemirror_mode": {
    "name": "ipython",
    "version": 3
   },
   "file_extension": ".py",
   "mimetype": "text/x-python",
   "name": "python",
   "nbconvert_exporter": "python",
   "pygments_lexer": "ipython3",
   "version": "3.5.1"
  }
 },
 "nbformat": 4,
 "nbformat_minor": 0
}
