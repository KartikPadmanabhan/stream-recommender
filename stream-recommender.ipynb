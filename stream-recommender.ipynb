{
 "cells": [
  {
   "cell_type": "markdown",
   "metadata": {},
   "source": [
    "# Recommender systems in streaming environment"
   ]
  },
  {
   "cell_type": "code",
   "execution_count": 1,
   "metadata": {
    "collapsed": false
   },
   "outputs": [],
   "source": [
    "import matplotlib as mpl \n",
    "mpl.use(\"pgf\") \n",
    "pgf_with_rc_fonts = {\n",
    "    \"font.serif\": [],\n",
    "}\n",
    "\n",
    "import numpy as np\n",
    "import pandas as pd\n",
    "import random\n",
    "\n",
    "%matplotlib inline\n",
    "import matplotlib.pyplot as plt\n",
    "\n",
    "mpl.rcParams['pdf.fonttype'] = 42\n",
    "mpl.rcParams['ps.fonttype'] = 42\n",
    "mpl.rcParams['axes.labelsize'] = 'large'\n",
    "mpl.rcParams[\"axes.facecolor\"] = 'w'"
   ]
  },
  {
   "cell_type": "markdown",
   "metadata": {},
   "source": [
    "### Load MovieLens 1M rating dataset\n",
    "\n",
    "(positive only)"
   ]
  },
  {
   "cell_type": "code",
   "execution_count": 2,
   "metadata": {
    "collapsed": false
   },
   "outputs": [
    {
     "data": {
      "text/plain": [
       "(226310, 4)"
      ]
     },
     "execution_count": 2,
     "metadata": {},
     "output_type": "execute_result"
    }
   ],
   "source": [
    "ratings = []\n",
    "with open('../../data/ml-1m/ratings.dat') as f:\n",
    "    lines = map(lambda l: map(int, l.rstrip().split('::')), f.readlines())\n",
    "    for l in lines:\n",
    "        # Since we consider positive-only feedback setting, ratings < 5 will be excluded.\n",
    "        if l[2] == 5: ratings.append(l)\n",
    "\n",
    "ratings = np.asarray(ratings)\n",
    "ratings.shape"
   ]
  },
  {
   "cell_type": "code",
   "execution_count": 3,
   "metadata": {
    "collapsed": false
   },
   "outputs": [
    {
     "data": {
      "text/plain": [
       "array([[     6040,       593,         5, 956703954],\n",
       "       [     6040,      2019,         5, 956703977],\n",
       "       [     6040,      3111,         5, 956704056],\n",
       "       [     6040,       213,         5, 956704056],\n",
       "       [     6040,       912,         5, 956704191]])"
      ]
     },
     "execution_count": 3,
     "metadata": {},
     "output_type": "execute_result"
    }
   ],
   "source": [
    "# sorted by timestamp\n",
    "ratings = ratings[np.argsort(ratings[:, 3])]\n",
    "ratings[:5]"
   ]
  },
  {
   "cell_type": "code",
   "execution_count": 51,
   "metadata": {
    "collapsed": false
   },
   "outputs": [
    {
     "data": {
      "text/plain": [
       "(226310, 45262, 181048)"
      ]
     },
     "execution_count": 51,
     "metadata": {},
     "output_type": "execute_result"
    }
   ],
   "source": [
    "n_ratings = ratings.shape[0]\n",
    "n_train = int(n_ratings * 0.2)\n",
    "n_ratings, n_train, n_ratings-n_train"
   ]
  },
  {
   "cell_type": "code",
   "execution_count": 5,
   "metadata": {
    "collapsed": false
   },
   "outputs": [
    {
     "data": {
      "text/plain": [
       "(6014, 3232)"
      ]
     },
     "execution_count": 5,
     "metadata": {},
     "output_type": "execute_result"
    }
   ],
   "source": [
    "users = set([])\n",
    "items = set([])\n",
    "for u, i, r, t in ratings:\n",
    "    users.add(u)\n",
    "    items.add(i)\n",
    "users = list(users)\n",
    "items = list(items)\n",
    "\n",
    "n_user = len(users)\n",
    "n_item = len(items)\n",
    "\n",
    "n_user, n_item"
   ]
  },
  {
   "cell_type": "markdown",
   "metadata": {},
   "source": [
    "### Prepare"
   ]
  },
  {
   "cell_type": "code",
   "execution_count": 6,
   "metadata": {
    "collapsed": false
   },
   "outputs": [
    {
     "data": {
      "text/plain": [
       "(5000, 10)"
      ]
     },
     "execution_count": 6,
     "metadata": {},
     "output_type": "execute_result"
    }
   ],
   "source": [
    "window_size = 5000 # for SMA\n",
    "N = 10 # recall@10\n",
    "\n",
    "window_size, N"
   ]
  },
  {
   "cell_type": "code",
   "execution_count": 7,
   "metadata": {
    "collapsed": false
   },
   "outputs": [],
   "source": [
    "%load_ext autoreload\n",
    "%autoreload 2\n",
    "\n",
    "from ISGD import ISGD\n",
    "from FM import FM"
   ]
  },
  {
   "cell_type": "code",
   "execution_count": 58,
   "metadata": {
    "collapsed": false
   },
   "outputs": [],
   "source": [
    "def plot_setting(fig, ax):\n",
    "    ax.set_xlabel('index', fontsize=11)\n",
    "    ax.set_ylabel('recall@10', fontsize=11)\n",
    "    ax.yaxis.grid(True)\n",
    "    ax.set_xticks([0, 50000, 100000, 150000])\n",
    "    ax.set_yticks([0.00, 0.025, 0.05, 0.075, 0.10])\n",
    "    ax.set_xlim([-5000.0, 180000])\n",
    "    ax.set_ylim([0.0, 0.10])\n",
    "    ax.axvline(x=window_size, linewidth=1, linestyle='--', color='gray')\n",
    "    fig.set_size_inches((5.5,3))\n",
    "    fig.patch.set_alpha(0.0)"
   ]
  },
  {
   "cell_type": "markdown",
   "metadata": {},
   "source": [
    "## Evaluation methodology\n",
    "\n",
    "Following paper describes how we can evaluate recommender systems in streaming environments.\n",
    "\n",
    "J. Vinagre, et al., \"**Evaluation of Recommender Systems in Streaming Environments**,\" Proc. of REDD 2014, Oct. 2014.\n",
    "\n",
    "The key idea is a *test-then-learn* procedure. To give an example, for the Movielens-1M dataset, the authors set the following evaluation procedure with positive-only setting (i.e. use only positive \"5\" ratings):\n",
    "\n",
    "1. Initialize a model with the first 20% events.\n",
    "2. Observe an evant *(user, item, rating)* one-by-one.\n",
    "    - If *user* is already known:\n",
    "        - generate recommendation list and check if *item* is in the list (i.e. compute **recall@10**).\n",
    "        - compute Simple Moving Average (SMA) of **recall@10** for the most recent $n=5000$ events.\n",
    "3. Update the model based on the observed event, and proceed 2."
   ]
  },
  {
   "cell_type": "markdown",
   "metadata": {},
   "source": [
    "### Baseline\n",
    "\n",
    "train 20% and use the model for all new observations"
   ]
  },
  {
   "cell_type": "code",
   "execution_count": 9,
   "metadata": {
    "collapsed": true
   },
   "outputs": [],
   "source": [
    "# initialize\n",
    "isgd = ISGD(n_user, n_item, k=100, l2_reg=0.01, learn_rate=0.03)\n",
    "history_mat = np.zeros((n_user, n_item))\n",
    "base_avgs, sma = [], []"
   ]
  },
  {
   "cell_type": "code",
   "execution_count": 10,
   "metadata": {
    "collapsed": false
   },
   "outputs": [
    {
     "name": "stdout",
     "output_type": "stream",
     "text": [
      "CPU times: user 11.3 s, sys: 106 ms, total: 11.4 s\n",
      "Wall time: 11.5 s\n"
     ]
    }
   ],
   "source": [
    "%%time\n",
    "\n",
    "# to avoid cold-start, train initial 20% samples\n",
    "for ri in xrange(n_train):\n",
    "    u, i, rating, timestamp = ratings[ri]\n",
    "    u_index = users.index(u)\n",
    "    i_index = items.index(i)\n",
    "    isgd.update(u_index, i_index)\n",
    "    history_mat[u_index, i_index] = 1"
   ]
  },
  {
   "cell_type": "code",
   "execution_count": 11,
   "metadata": {
    "collapsed": false
   },
   "outputs": [
    {
     "name": "stdout",
     "output_type": "stream",
     "text": [
      "CPU times: user 2min 4s, sys: 6.38 s, total: 2min 10s\n",
      "Wall time: 1min 59s\n"
     ]
    }
   ],
   "source": [
    "%%time\n",
    "\n",
    "# start stream recommendation\n",
    "for ri in xrange(n_train, n_ratings):\n",
    "    u, i, rating, timestamp = ratings[ri]\n",
    "    u_index = users.index(u)\n",
    "    i_index = items.index(i)\n",
    "    \n",
    "    # 1.\n",
    "    if u_index in isgd.known_users:\n",
    "        # If u is a known user, use the current model to recommend N items,\n",
    "        recos = isgd.recommend(u_index, N, history_mat[u_index])\n",
    "        \n",
    "        # 2. Score the recommendation list given the true observed item i\n",
    "        recall = 1 if (i_index in recos) else 0\n",
    "        \n",
    "        sma.append(recall)\n",
    "        n = len(sma)\n",
    "        if n > window_size: \n",
    "            del sma[0]\n",
    "            n -= 1\n",
    "        avg = sum(sma) / float(n)\n",
    "        base_avgs.append(avg)\n",
    "    \n",
    "    # 3. update the know_users and known_items list (w/o updating the model)\n",
    "    if u_index not in isgd.known_users: isgd.known_users = np.append(isgd.known_users, u_index)\n",
    "    if i_index not in isgd.known_items: isgd.known_items = np.append(isgd.known_items, i_index)\n",
    "\n",
    "    history_mat[u_index, i_index] = 1"
   ]
  },
  {
   "cell_type": "code",
   "execution_count": 59,
   "metadata": {
    "collapsed": false
   },
   "outputs": [
    {
     "data": {
      "image/png": "[encoded data removed]",
      "text/plain": [
       "<matplotlib.figure.Figure at 0x129ea8e10>"
      ]
     },
     "metadata": {},
     "output_type": "display_data"
    }
   ],
   "source": [
    "fig, ax = plt.subplots()\n",
    "ax.plot(range(len(base_avgs)), base_avgs)\n",
    "plot_setting(fig, ax)"
   ]
  },
  {
   "cell_type": "markdown",
   "metadata": {},
   "source": [
    "### Incremental SGD (ISGD)\n",
    "\n",
    "- Run a test-then-learn procedure\n",
    "- Simple Moving Average (SMA) with window size $n=5000$"
   ]
  },
  {
   "cell_type": "code",
   "execution_count": 22,
   "metadata": {
    "collapsed": false
   },
   "outputs": [],
   "source": [
    "# initialize\n",
    "isgd = ISGD(n_user, n_item, k=100, l2_reg=0.01, learn_rate=0.03)\n",
    "history_mat = np.zeros((n_user, n_item))\n",
    "isgd_avgs, sma = [], []"
   ]
  },
  {
   "cell_type": "code",
   "execution_count": 23,
   "metadata": {
    "collapsed": false
   },
   "outputs": [
    {
     "name": "stdout",
     "output_type": "stream",
     "text": [
      "CPU times: user 11.1 s, sys: 101 ms, total: 11.2 s\n",
      "Wall time: 11.4 s\n"
     ]
    }
   ],
   "source": [
    "%%time\n",
    "\n",
    "# to avoid cold-start, train initial 20% samples\n",
    "for ri in xrange(n_train):\n",
    "    u, i, rating, timestamp = ratings[ri]\n",
    "    u_index = users.index(u)\n",
    "    i_index = items.index(i)\n",
    "    isgd.update(u_index, i_index)\n",
    "    history_mat[u_index, i_index] = 1"
   ]
  },
  {
   "cell_type": "code",
   "execution_count": 24,
   "metadata": {
    "collapsed": false
   },
   "outputs": [
    {
     "name": "stdout",
     "output_type": "stream",
     "text": [
      "CPU times: user 2min 8s, sys: 6.45 s, total: 2min 14s\n",
      "Wall time: 2min 3s\n"
     ]
    }
   ],
   "source": [
    "%%time\n",
    "\n",
    "# start stream recommendation\n",
    "for ri in xrange(n_train, n_ratings):\n",
    "    u, i, rating, timestamp = ratings[ri]\n",
    "    u_index = users.index(u)\n",
    "    i_index = items.index(i)\n",
    "    \n",
    "    # 1.\n",
    "    if u_index in isgd.known_users:\n",
    "        # If u is a known user, use the current model to recommend N items,\n",
    "        recos = isgd.recommend(u_index, N, history_mat[u_index])\n",
    "        \n",
    "        # 2. Score the recommendation list given the true observed item i\n",
    "        recall = 1 if (i_index in recos) else 0\n",
    "        \n",
    "        sma.append(recall)\n",
    "        n = len(sma)\n",
    "        if n > window_size: \n",
    "            del sma[0]\n",
    "            n -= 1\n",
    "        avg = sum(sma) / float(n)\n",
    "        isgd_avgs.append(avg)\n",
    "    \n",
    "    # 3. update the model with the observed event\n",
    "    isgd.update(u_index, i_index)\n",
    "    \n",
    "    history_mat[u_index, i_index] = 1"
   ]
  },
  {
   "cell_type": "code",
   "execution_count": 60,
   "metadata": {
    "collapsed": false
   },
   "outputs": [
    {
     "data": {
      "image/png": "[encoded data removed]",
      "text/plain": [
       "<matplotlib.figure.Figure at 0x12a19bfd0>"
      ]
     },
     "metadata": {},
     "output_type": "display_data"
    }
   ],
   "source": [
    "fig, ax = plt.subplots()\n",
    "ax.plot(range(len(isgd_avgs)), isgd_avgs)\n",
    "plot_setting(fig, ax)"
   ]
  },
  {
   "cell_type": "markdown",
   "metadata": {},
   "source": [
    "### Factorization Machines (FMs)"
   ]
  },
  {
   "cell_type": "code",
   "execution_count": 30,
   "metadata": {
    "collapsed": false
   },
   "outputs": [],
   "source": [
    "# initialize\n",
    "fm = FM(n_user, n_item, k=100, l2_reg_w0=.01, l2_reg_w=.01, l2_reg_V=.01, learn_rate=.03)\n",
    "history_mat = np.zeros((n_user, n_item))\n",
    "fm_avgs, sma = [], []"
   ]
  },
  {
   "cell_type": "code",
   "execution_count": 31,
   "metadata": {
    "collapsed": false
   },
   "outputs": [
    {
     "name": "stdout",
     "output_type": "stream",
     "text": [
      "CPU times: user 11.8 s, sys: 115 ms, total: 12 s\n",
      "Wall time: 12.2 s\n"
     ]
    },
    {
     "name": "stderr",
     "output_type": "stream",
     "text": [
      "FM.py:44: FutureWarning: comparison to `None` will result in an elementwise object comparison in the future.\n",
      "  if prev_w0 != None and prev_w != None:\n"
     ]
    }
   ],
   "source": [
    "%%time\n",
    "\n",
    "prev_w0 = prev_w = None\n",
    "\n",
    "# to avoid cold-start, train initial 20% samples\n",
    "for ri in xrange(n_train):\n",
    "    u, i, rating, timestamp = ratings[ri]\n",
    "    u_index = users.index(u)\n",
    "    i_index = items.index(i)\n",
    "    prev_w0, prev_w = fm.update(u_index, i_index, prev_w0, prev_w)\n",
    "    history_mat[u_index, i_index] = 1"
   ]
  },
  {
   "cell_type": "code",
   "execution_count": 32,
   "metadata": {
    "collapsed": false
   },
   "outputs": [
    {
     "name": "stdout",
     "output_type": "stream",
     "text": [
      "CPU times: user 2min 23s, sys: 6.97 s, total: 2min 30s\n",
      "Wall time: 2min 18s\n"
     ]
    }
   ],
   "source": [
    "%%time\n",
    "\n",
    "for ri in xrange(n_train, n_ratings):\n",
    "    u, i, rating, timestamp = ratings[ri]\n",
    "    u_index = users.index(u)\n",
    "    i_index = items.index(i)\n",
    "    \n",
    "    # 1.\n",
    "    if u_index in fm.known_users:\n",
    "        # If u is a known user, use the current model to recommend N items,\n",
    "        recos = fm.recommend(u_index, N, history_mat[u_index])\n",
    "        \n",
    "        # 2. Score the recommendation list given the true observed item i\n",
    "        recall = 1 if (i_index in recos) else 0\n",
    "        \n",
    "        sma.append(recall)\n",
    "        n = len(sma)\n",
    "        if n > window_size: \n",
    "            del sma[0]\n",
    "            n -= 1\n",
    "        avg = sum(sma) / float(n)\n",
    "        fm_avgs.append(avg)\n",
    "    \n",
    "    # 3. update the model with the observed event\n",
    "    prev_w0, prev_w = fm.update(u_index, i_index, prev_w0, prev_w)\n",
    "    history_mat[u_index, i_index] = 1"
   ]
  },
  {
   "cell_type": "markdown",
   "metadata": {},
   "source": [
    "### Compare the result"
   ]
  },
  {
   "cell_type": "code",
   "execution_count": 61,
   "metadata": {
    "collapsed": false
   },
   "outputs": [
    {
     "data": {
      "image/png": "[encoded data removed]",
      "text/plain": [
       "<matplotlib.figure.Figure at 0x12bbda590>"
      ]
     },
     "metadata": {},
     "output_type": "display_data"
    }
   ],
   "source": [
    "fig, ax = plt.subplots()\n",
    "ax.plot(range(len(base_avgs)), base_avgs, label='Batch')\n",
    "ax.plot(range(len(isgd_avgs)), isgd_avgs, label='iMF')\n",
    "ax.plot(range(len(fm_avgs)), fm_avgs, label='iFMs')\n",
    "ax.legend()\n",
    "plot_setting(fig, ax)\n",
    "\n",
    "fig.savefig('../../paper/images/ml-1m-recall-evolve.pdf')"
   ]
  },
  {
   "cell_type": "code",
   "execution_count": 192,
   "metadata": {
    "collapsed": false
   },
   "outputs": [
    {
     "data": {
      "text/plain": [
       "14.659535763919834"
      ]
     },
     "execution_count": 192,
     "metadata": {},
     "output_type": "execute_result"
    }
   ],
   "source": [
    "fm.l2_reg_w0"
   ]
  },
  {
   "cell_type": "code",
   "execution_count": 56,
   "metadata": {
    "collapsed": false
   },
   "outputs": [
    {
     "data": {
      "text/plain": [
       "(0.011, 0.0126, 0.0132)"
      ]
     },
     "execution_count": 56,
     "metadata": {},
     "output_type": "execute_result"
    }
   ],
   "source": [
    "base_avgs[-1], isgd_avgs[-1], fm_avgs[-1]"
   ]
  },
  {
   "cell_type": "code",
   "execution_count": null,
   "metadata": {
    "collapsed": true
   },
   "outputs": [],
   "source": []
  }
 ],
 "metadata": {
  "kernelspec": {
   "display_name": "Python 2",
   "language": "python",
   "name": "python2"
  },
  "language_info": {
   "codemirror_mode": {
    "name": "ipython",
    "version": 2
   },
   "file_extension": ".py",
   "mimetype": "text/x-python",
   "name": "python",
   "nbconvert_exporter": "python",
   "pygments_lexer": "ipython2",
   "version": "2.7.11"
  }
 },
 "nbformat": 4,
 "nbformat_minor": 0
}
