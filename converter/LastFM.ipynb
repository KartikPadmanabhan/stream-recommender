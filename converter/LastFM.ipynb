{
 "cells": [
  {
   "cell_type": "markdown",
   "metadata": {},
   "source": [
    "# Preprocessing for the LastFM dataset"
   ]
  },
  {
   "cell_type": "code",
   "execution_count": 1,
   "metadata": {
    "collapsed": true
   },
   "outputs": [],
   "source": [
    "import numpy as np\n",
    "import pandas as pd\n",
    "\n",
    "import time\n",
    "from calendar import monthrange\n",
    "from datetime import datetime, timedelta"
   ]
  },
  {
   "cell_type": "markdown",
   "metadata": {},
   "source": [
    "Convert the original TSV data into DataFrames, and sort them by timestamp"
   ]
  },
  {
   "cell_type": "code",
   "execution_count": 2,
   "metadata": {
    "collapsed": false
   },
   "outputs": [],
   "source": [
    "df_plays = pd.read_csv('../../../data/lastfm-dataset-1K/userid-timestamp-artid-artname-traid-traname.tsv',\n",
    "     delimiter='\\t',\n",
    "     header=None,\n",
    "     names=('userid', 'timestamp', 'artist-id', 'artist-name', 'track-id', 'track-name'))\n",
    "\n",
    "df_users = pd.read_csv('../../../data/lastfm-dataset-1K/userid-profile.tsv',\n",
    "     delimiter='\\t')\n",
    "\n",
    "df_lastfm = pd.merge(df_plays, df_users, how='inner', left_on='userid', right_on='#id').drop(\n",
    "    ['#id', 'artist-id', 'artist-name', 'track-name', 'registered'], axis=1).sort_values(\n",
    "    by='timestamp').reset_index(drop=True)"
   ]
  },
  {
   "cell_type": "code",
   "execution_count": 3,
   "metadata": {
    "collapsed": false
   },
   "outputs": [
    {
     "data": {
      "text/html": [
       "<div>\n",
       "<table border=\"1\" class=\"dataframe\">\n",
       "  <thead>\n",
       "    <tr style=\"text-align: right;\">\n",
       "      <th></th>\n",
       "      <th>userid</th>\n",
       "      <th>timestamp</th>\n",
       "      <th>track-id</th>\n",
       "      <th>gender</th>\n",
       "      <th>age</th>\n",
       "      <th>country</th>\n",
       "    </tr>\n",
       "  </thead>\n",
       "  <tbody>\n",
       "    <tr>\n",
       "      <th>0</th>\n",
       "      <td>user_000391</td>\n",
       "      <td>2005-02-14T00:00:07Z</td>\n",
       "      <td>6b4977f4-3c7a-492a-af61-1e877fa66f52</td>\n",
       "      <td>f</td>\n",
       "      <td>NaN</td>\n",
       "      <td>Germany</td>\n",
       "    </tr>\n",
       "    <tr>\n",
       "      <th>1</th>\n",
       "      <td>user_000871</td>\n",
       "      <td>2005-02-14T00:00:38Z</td>\n",
       "      <td>9ecc2ab3-7294-43ad-bdeb-f51388a7a6e0</td>\n",
       "      <td>NaN</td>\n",
       "      <td>NaN</td>\n",
       "      <td>Argentina</td>\n",
       "    </tr>\n",
       "    <tr>\n",
       "      <th>2</th>\n",
       "      <td>user_000709</td>\n",
       "      <td>2005-02-14T00:01:44Z</td>\n",
       "      <td>1d0f1ea5-0a92-4578-a7e7-3f2a7129da61</td>\n",
       "      <td>m</td>\n",
       "      <td>NaN</td>\n",
       "      <td>Canada</td>\n",
       "    </tr>\n",
       "    <tr>\n",
       "      <th>3</th>\n",
       "      <td>user_000285</td>\n",
       "      <td>2005-02-14T00:02:10Z</td>\n",
       "      <td>46909ba9-46c7-461e-a2ef-280eacd550e4</td>\n",
       "      <td>f</td>\n",
       "      <td>23.0</td>\n",
       "      <td>United States</td>\n",
       "    </tr>\n",
       "    <tr>\n",
       "      <th>4</th>\n",
       "      <td>user_000142</td>\n",
       "      <td>2005-02-14T00:02:40Z</td>\n",
       "      <td>14025355-94c2-4e9b-b63f-c16cab9e8086</td>\n",
       "      <td>NaN</td>\n",
       "      <td>NaN</td>\n",
       "      <td>Norway</td>\n",
       "    </tr>\n",
       "  </tbody>\n",
       "</table>\n",
       "</div>"
      ],
      "text/plain": [
       "        userid             timestamp                              track-id  \\\n",
       "0  user_000391  2005-02-14T00:00:07Z  6b4977f4-3c7a-492a-af61-1e877fa66f52   \n",
       "1  user_000871  2005-02-14T00:00:38Z  9ecc2ab3-7294-43ad-bdeb-f51388a7a6e0   \n",
       "2  user_000709  2005-02-14T00:01:44Z  1d0f1ea5-0a92-4578-a7e7-3f2a7129da61   \n",
       "3  user_000285  2005-02-14T00:02:10Z  46909ba9-46c7-461e-a2ef-280eacd550e4   \n",
       "4  user_000142  2005-02-14T00:02:40Z  14025355-94c2-4e9b-b63f-c16cab9e8086   \n",
       "\n",
       "  gender   age        country  \n",
       "0      f   NaN        Germany  \n",
       "1    NaN   NaN      Argentina  \n",
       "2      m   NaN         Canada  \n",
       "3      f  23.0  United States  \n",
       "4    NaN   NaN         Norway  "
      ]
     },
     "execution_count": 3,
     "metadata": {},
     "output_type": "execute_result"
    }
   ],
   "source": [
    "df_lastfm.head()"
   ]
  },
  {
   "cell_type": "markdown",
   "metadata": {},
   "source": [
    "Obtain a subset of the dataset similary to:\n",
    "\n",
    "- [Fast Incremental Matrix Factorization for Recommendation with Positive-only Feedback](http://link.springer.com/chapter/10.1007%2F978-3-319-08786-3_41)\n",
    "- [Forgetting Methods for Incremental Matrix Factorization in Recommender Systems](http://dl.acm.org/citation.cfm?id=2695820)"
   ]
  },
  {
   "cell_type": "code",
   "execution_count": 29,
   "metadata": {
    "collapsed": false
   },
   "outputs": [
    {
     "data": {
      "text/plain": [
       "(177196, 6)"
      ]
     },
     "execution_count": 29,
     "metadata": {},
     "output_type": "execute_result"
    }
   ],
   "source": [
    "# 3 month from the first observation\n",
    "df_lastfm_3m = df_lastfm[df_lastfm['timestamp'] < '2005-05-15T00:00:00Z']\n",
    "df_lastfm_3m.shape"
   ]
  },
  {
   "cell_type": "code",
   "execution_count": 30,
   "metadata": {
    "collapsed": false
   },
   "outputs": [
    {
     "data": {
      "text/plain": [
       "(159798, 6)"
      ]
     },
     "execution_count": 30,
     "metadata": {},
     "output_type": "execute_result"
    }
   ],
   "source": [
    "# remove NaN track_id events\n",
    "df_lastfm_3m = df_lastfm_3m.loc[pd.notnull(df_lastfm_3m['track-id'])].reset_index(drop=True)\n",
    "df_lastfm_3m.shape"
   ]
  },
  {
   "cell_type": "code",
   "execution_count": 31,
   "metadata": {
    "collapsed": false
   },
   "outputs": [
    {
     "data": {
      "text/html": [
       "<div>\n",
       "<table border=\"1\" class=\"dataframe\">\n",
       "  <thead>\n",
       "    <tr style=\"text-align: right;\">\n",
       "      <th></th>\n",
       "      <th>userid</th>\n",
       "      <th>timestamp</th>\n",
       "      <th>track-id</th>\n",
       "      <th>gender</th>\n",
       "      <th>age</th>\n",
       "      <th>country</th>\n",
       "    </tr>\n",
       "  </thead>\n",
       "  <tbody>\n",
       "    <tr>\n",
       "      <th>159793</th>\n",
       "      <td>user_000298</td>\n",
       "      <td>2005-05-14T23:57:15Z</td>\n",
       "      <td>3dc94d29-3f33-4032-8772-e599f081d085</td>\n",
       "      <td>m</td>\n",
       "      <td>28.0</td>\n",
       "      <td>Argentina</td>\n",
       "    </tr>\n",
       "    <tr>\n",
       "      <th>159794</th>\n",
       "      <td>user_000870</td>\n",
       "      <td>2005-05-14T23:58:42Z</td>\n",
       "      <td>e8ba000e-6304-473c-b6a7-49010b1433d7</td>\n",
       "      <td>m</td>\n",
       "      <td>NaN</td>\n",
       "      <td>United Kingdom</td>\n",
       "    </tr>\n",
       "    <tr>\n",
       "      <th>159795</th>\n",
       "      <td>user_000293</td>\n",
       "      <td>2005-05-14T23:59:25Z</td>\n",
       "      <td>b83f61e2-a566-49cc-b8dd-9ad5a0caddb2</td>\n",
       "      <td>NaN</td>\n",
       "      <td>39.0</td>\n",
       "      <td>United Kingdom</td>\n",
       "    </tr>\n",
       "    <tr>\n",
       "      <th>159796</th>\n",
       "      <td>user_000298</td>\n",
       "      <td>2005-05-14T23:59:45Z</td>\n",
       "      <td>22ea4524-3dcb-44e6-a1bc-4edfd25ad988</td>\n",
       "      <td>m</td>\n",
       "      <td>28.0</td>\n",
       "      <td>Argentina</td>\n",
       "    </tr>\n",
       "    <tr>\n",
       "      <th>159797</th>\n",
       "      <td>user_000142</td>\n",
       "      <td>2005-05-14T23:59:51Z</td>\n",
       "      <td>c0d44a5d-f84b-4d4b-babc-0f3937ef6edb</td>\n",
       "      <td>NaN</td>\n",
       "      <td>NaN</td>\n",
       "      <td>Norway</td>\n",
       "    </tr>\n",
       "  </tbody>\n",
       "</table>\n",
       "</div>"
      ],
      "text/plain": [
       "             userid             timestamp  \\\n",
       "159793  user_000298  2005-05-14T23:57:15Z   \n",
       "159794  user_000870  2005-05-14T23:58:42Z   \n",
       "159795  user_000293  2005-05-14T23:59:25Z   \n",
       "159796  user_000298  2005-05-14T23:59:45Z   \n",
       "159797  user_000142  2005-05-14T23:59:51Z   \n",
       "\n",
       "                                    track-id gender   age         country  \n",
       "159793  3dc94d29-3f33-4032-8772-e599f081d085      m  28.0       Argentina  \n",
       "159794  e8ba000e-6304-473c-b6a7-49010b1433d7      m   NaN  United Kingdom  \n",
       "159795  b83f61e2-a566-49cc-b8dd-9ad5a0caddb2    NaN  39.0  United Kingdom  \n",
       "159796  22ea4524-3dcb-44e6-a1bc-4edfd25ad988      m  28.0       Argentina  \n",
       "159797  c0d44a5d-f84b-4d4b-babc-0f3937ef6edb    NaN   NaN          Norway  "
      ]
     },
     "execution_count": 31,
     "metadata": {},
     "output_type": "execute_result"
    }
   ],
   "source": [
    "df_lastfm_3m.tail()"
   ]
  },
  {
   "cell_type": "code",
   "execution_count": 67,
   "metadata": {
    "collapsed": false
   },
   "outputs": [
    {
     "data": {
      "text/plain": [
       "(92, 51072, 16)"
      ]
     },
     "execution_count": 67,
     "metadata": {},
     "output_type": "execute_result"
    }
   ],
   "source": [
    "user_ids = list(set(df_lastfm_3m['userid']))\n",
    "item_ids = list(set(df_lastfm_3m['track-id']))\n",
    "countries = list(set(df_lastfm_3m['country']))\n",
    "\n",
    "len(user_ids), len(item_ids), len(countries)"
   ]
  },
  {
   "cell_type": "markdown",
   "metadata": {},
   "source": [
    "Fill NaN variables.\n",
    "\n",
    "- sex: male\n",
    "- age: avg. of the samples\n",
    "- country: United States"
   ]
  },
  {
   "cell_type": "code",
   "execution_count": 33,
   "metadata": {
    "collapsed": false
   },
   "outputs": [
    {
     "data": {
      "text/html": [
       "<div>\n",
       "<table border=\"1\" class=\"dataframe\">\n",
       "  <thead>\n",
       "    <tr style=\"text-align: right;\">\n",
       "      <th></th>\n",
       "      <th>userid</th>\n",
       "      <th>timestamp</th>\n",
       "      <th>track-id</th>\n",
       "      <th>gender</th>\n",
       "      <th>age</th>\n",
       "      <th>country</th>\n",
       "    </tr>\n",
       "  </thead>\n",
       "  <tbody>\n",
       "    <tr>\n",
       "      <th>159793</th>\n",
       "      <td>user_000298</td>\n",
       "      <td>2005-05-14T23:57:15Z</td>\n",
       "      <td>3dc94d29-3f33-4032-8772-e599f081d085</td>\n",
       "      <td>m</td>\n",
       "      <td>28.000000</td>\n",
       "      <td>Argentina</td>\n",
       "    </tr>\n",
       "    <tr>\n",
       "      <th>159794</th>\n",
       "      <td>user_000870</td>\n",
       "      <td>2005-05-14T23:58:42Z</td>\n",
       "      <td>e8ba000e-6304-473c-b6a7-49010b1433d7</td>\n",
       "      <td>m</td>\n",
       "      <td>27.216032</td>\n",
       "      <td>United Kingdom</td>\n",
       "    </tr>\n",
       "    <tr>\n",
       "      <th>159795</th>\n",
       "      <td>user_000293</td>\n",
       "      <td>2005-05-14T23:59:25Z</td>\n",
       "      <td>b83f61e2-a566-49cc-b8dd-9ad5a0caddb2</td>\n",
       "      <td>m</td>\n",
       "      <td>39.000000</td>\n",
       "      <td>United Kingdom</td>\n",
       "    </tr>\n",
       "    <tr>\n",
       "      <th>159796</th>\n",
       "      <td>user_000298</td>\n",
       "      <td>2005-05-14T23:59:45Z</td>\n",
       "      <td>22ea4524-3dcb-44e6-a1bc-4edfd25ad988</td>\n",
       "      <td>m</td>\n",
       "      <td>28.000000</td>\n",
       "      <td>Argentina</td>\n",
       "    </tr>\n",
       "    <tr>\n",
       "      <th>159797</th>\n",
       "      <td>user_000142</td>\n",
       "      <td>2005-05-14T23:59:51Z</td>\n",
       "      <td>c0d44a5d-f84b-4d4b-babc-0f3937ef6edb</td>\n",
       "      <td>m</td>\n",
       "      <td>27.216032</td>\n",
       "      <td>Norway</td>\n",
       "    </tr>\n",
       "  </tbody>\n",
       "</table>\n",
       "</div>"
      ],
      "text/plain": [
       "             userid             timestamp  \\\n",
       "159793  user_000298  2005-05-14T23:57:15Z   \n",
       "159794  user_000870  2005-05-14T23:58:42Z   \n",
       "159795  user_000293  2005-05-14T23:59:25Z   \n",
       "159796  user_000298  2005-05-14T23:59:45Z   \n",
       "159797  user_000142  2005-05-14T23:59:51Z   \n",
       "\n",
       "                                    track-id gender        age         country  \n",
       "159793  3dc94d29-3f33-4032-8772-e599f081d085      m  28.000000       Argentina  \n",
       "159794  e8ba000e-6304-473c-b6a7-49010b1433d7      m  27.216032  United Kingdom  \n",
       "159795  b83f61e2-a566-49cc-b8dd-9ad5a0caddb2      m  39.000000  United Kingdom  \n",
       "159796  22ea4524-3dcb-44e6-a1bc-4edfd25ad988      m  28.000000       Argentina  \n",
       "159797  c0d44a5d-f84b-4d4b-babc-0f3937ef6edb      m  27.216032          Norway  "
      ]
     },
     "execution_count": 33,
     "metadata": {},
     "output_type": "execute_result"
    }
   ],
   "source": [
    "df_lastfm_3m['gender'] = df_lastfm_3m['gender'].fillna('m')\n",
    "df_lastfm_3m['age'] = df_lastfm_3m['age'].fillna(np.mean(df_lastfm_3m['age']))\n",
    "df_lastfm_3m['country'] = df_lastfm_3m['country'].fillna('United States')\n",
    "\n",
    "df_lastfm_3m.tail()"
   ]
  },
  {
   "cell_type": "code",
   "execution_count": 34,
   "metadata": {
    "collapsed": false
   },
   "outputs": [
    {
     "data": {
      "text/html": [
       "<div>\n",
       "<table border=\"1\" class=\"dataframe\">\n",
       "  <thead>\n",
       "    <tr style=\"text-align: right;\">\n",
       "      <th></th>\n",
       "      <th>userid</th>\n",
       "      <th>timestamp</th>\n",
       "      <th>track-id</th>\n",
       "      <th>gender</th>\n",
       "      <th>age</th>\n",
       "      <th>country</th>\n",
       "    </tr>\n",
       "  </thead>\n",
       "  <tbody>\n",
       "    <tr>\n",
       "      <th>159793</th>\n",
       "      <td>user_000298</td>\n",
       "      <td>2005-05-14T23:57:15Z</td>\n",
       "      <td>3dc94d29-3f33-4032-8772-e599f081d085</td>\n",
       "      <td>1.0</td>\n",
       "      <td>28.000000</td>\n",
       "      <td>Argentina</td>\n",
       "    </tr>\n",
       "    <tr>\n",
       "      <th>159794</th>\n",
       "      <td>user_000870</td>\n",
       "      <td>2005-05-14T23:58:42Z</td>\n",
       "      <td>e8ba000e-6304-473c-b6a7-49010b1433d7</td>\n",
       "      <td>1.0</td>\n",
       "      <td>27.216032</td>\n",
       "      <td>United Kingdom</td>\n",
       "    </tr>\n",
       "    <tr>\n",
       "      <th>159795</th>\n",
       "      <td>user_000293</td>\n",
       "      <td>2005-05-14T23:59:25Z</td>\n",
       "      <td>b83f61e2-a566-49cc-b8dd-9ad5a0caddb2</td>\n",
       "      <td>1.0</td>\n",
       "      <td>39.000000</td>\n",
       "      <td>United Kingdom</td>\n",
       "    </tr>\n",
       "    <tr>\n",
       "      <th>159796</th>\n",
       "      <td>user_000298</td>\n",
       "      <td>2005-05-14T23:59:45Z</td>\n",
       "      <td>22ea4524-3dcb-44e6-a1bc-4edfd25ad988</td>\n",
       "      <td>1.0</td>\n",
       "      <td>28.000000</td>\n",
       "      <td>Argentina</td>\n",
       "    </tr>\n",
       "    <tr>\n",
       "      <th>159797</th>\n",
       "      <td>user_000142</td>\n",
       "      <td>2005-05-14T23:59:51Z</td>\n",
       "      <td>c0d44a5d-f84b-4d4b-babc-0f3937ef6edb</td>\n",
       "      <td>1.0</td>\n",
       "      <td>27.216032</td>\n",
       "      <td>Norway</td>\n",
       "    </tr>\n",
       "  </tbody>\n",
       "</table>\n",
       "</div>"
      ],
      "text/plain": [
       "             userid             timestamp  \\\n",
       "159793  user_000298  2005-05-14T23:57:15Z   \n",
       "159794  user_000870  2005-05-14T23:58:42Z   \n",
       "159795  user_000293  2005-05-14T23:59:25Z   \n",
       "159796  user_000298  2005-05-14T23:59:45Z   \n",
       "159797  user_000142  2005-05-14T23:59:51Z   \n",
       "\n",
       "                                    track-id  gender        age  \\\n",
       "159793  3dc94d29-3f33-4032-8772-e599f081d085     1.0  28.000000   \n",
       "159794  e8ba000e-6304-473c-b6a7-49010b1433d7     1.0  27.216032   \n",
       "159795  b83f61e2-a566-49cc-b8dd-9ad5a0caddb2     1.0  39.000000   \n",
       "159796  22ea4524-3dcb-44e6-a1bc-4edfd25ad988     1.0  28.000000   \n",
       "159797  c0d44a5d-f84b-4d4b-babc-0f3937ef6edb     1.0  27.216032   \n",
       "\n",
       "               country  \n",
       "159793       Argentina  \n",
       "159794  United Kingdom  \n",
       "159795  United Kingdom  \n",
       "159796       Argentina  \n",
       "159797          Norway  "
      ]
     },
     "execution_count": 34,
     "metadata": {},
     "output_type": "execute_result"
    }
   ],
   "source": [
    "# encode gender m/f into 0/1\n",
    "df_lastfm_3m['gender'] = pd.get_dummies(df_lastfm_3m['gender'])['m']\n",
    "df_lastfm_3m.tail()"
   ]
  },
  {
   "cell_type": "code",
   "execution_count": 40,
   "metadata": {
    "collapsed": false
   },
   "outputs": [
    {
     "data": {
      "text/html": [
       "<div>\n",
       "<table border=\"1\" class=\"dataframe\">\n",
       "  <thead>\n",
       "    <tr style=\"text-align: right;\">\n",
       "      <th></th>\n",
       "      <th>userid</th>\n",
       "      <th>timestamp</th>\n",
       "      <th>track-id</th>\n",
       "      <th>gender</th>\n",
       "      <th>age</th>\n",
       "      <th>country</th>\n",
       "    </tr>\n",
       "  </thead>\n",
       "  <tbody>\n",
       "    <tr>\n",
       "      <th>159793</th>\n",
       "      <td>user_000298</td>\n",
       "      <td>2005-05-14T23:57:15Z</td>\n",
       "      <td>3dc94d29-3f33-4032-8772-e599f081d085</td>\n",
       "      <td>1.0</td>\n",
       "      <td>2.998332e-01</td>\n",
       "      <td>Argentina</td>\n",
       "    </tr>\n",
       "    <tr>\n",
       "      <th>159794</th>\n",
       "      <td>user_000870</td>\n",
       "      <td>2005-05-14T23:58:42Z</td>\n",
       "      <td>e8ba000e-6304-473c-b6a7-49010b1433d7</td>\n",
       "      <td>1.0</td>\n",
       "      <td>-1.358756e-15</td>\n",
       "      <td>United Kingdom</td>\n",
       "    </tr>\n",
       "    <tr>\n",
       "      <th>159795</th>\n",
       "      <td>user_000293</td>\n",
       "      <td>2005-05-14T23:59:25Z</td>\n",
       "      <td>b83f61e2-a566-49cc-b8dd-9ad5a0caddb2</td>\n",
       "      <td>1.0</td>\n",
       "      <td>4.506848e+00</td>\n",
       "      <td>United Kingdom</td>\n",
       "    </tr>\n",
       "    <tr>\n",
       "      <th>159796</th>\n",
       "      <td>user_000298</td>\n",
       "      <td>2005-05-14T23:59:45Z</td>\n",
       "      <td>22ea4524-3dcb-44e6-a1bc-4edfd25ad988</td>\n",
       "      <td>1.0</td>\n",
       "      <td>2.998332e-01</td>\n",
       "      <td>Argentina</td>\n",
       "    </tr>\n",
       "    <tr>\n",
       "      <th>159797</th>\n",
       "      <td>user_000142</td>\n",
       "      <td>2005-05-14T23:59:51Z</td>\n",
       "      <td>c0d44a5d-f84b-4d4b-babc-0f3937ef6edb</td>\n",
       "      <td>1.0</td>\n",
       "      <td>-1.358756e-15</td>\n",
       "      <td>Norway</td>\n",
       "    </tr>\n",
       "  </tbody>\n",
       "</table>\n",
       "</div>"
      ],
      "text/plain": [
       "             userid             timestamp  \\\n",
       "159793  user_000298  2005-05-14T23:57:15Z   \n",
       "159794  user_000870  2005-05-14T23:58:42Z   \n",
       "159795  user_000293  2005-05-14T23:59:25Z   \n",
       "159796  user_000298  2005-05-14T23:59:45Z   \n",
       "159797  user_000142  2005-05-14T23:59:51Z   \n",
       "\n",
       "                                    track-id  gender           age  \\\n",
       "159793  3dc94d29-3f33-4032-8772-e599f081d085     1.0  2.998332e-01   \n",
       "159794  e8ba000e-6304-473c-b6a7-49010b1433d7     1.0 -1.358756e-15   \n",
       "159795  b83f61e2-a566-49cc-b8dd-9ad5a0caddb2     1.0  4.506848e+00   \n",
       "159796  22ea4524-3dcb-44e6-a1bc-4edfd25ad988     1.0  2.998332e-01   \n",
       "159797  c0d44a5d-f84b-4d4b-babc-0f3937ef6edb     1.0 -1.358756e-15   \n",
       "\n",
       "               country  \n",
       "159793       Argentina  \n",
       "159794  United Kingdom  \n",
       "159795  United Kingdom  \n",
       "159796       Argentina  \n",
       "159797          Norway  "
      ]
     },
     "execution_count": 40,
     "metadata": {},
     "output_type": "execute_result"
    }
   ],
   "source": [
    "# standardize age to be zero-mean\n",
    "df_lastfm_3m['age'] = (df_lastfm_3m['age'] - df_lastfm_3m['age'].mean()) / df_lastfm_3m['age'].std(ddof=0)\n",
    "df_lastfm_3m.tail()"
   ]
  },
  {
   "cell_type": "markdown",
   "metadata": {},
   "source": [
    "Create features used in the model.\n",
    "\n",
    "1. **elapsed days** from the first sample\n",
    "2. **user indices** corresponds to *userid*\n",
    "3. **item indices** corresponds to *track-id*"
   ]
  },
  {
   "cell_type": "code",
   "execution_count": 63,
   "metadata": {
    "collapsed": false
   },
   "outputs": [],
   "source": [
    "now = datetime.now()\n",
    "midnight = now.replace(hour=0, minute=0, second=0, microsecond=0)\n",
    "\n",
    "max_sec = (now.replace(hour=23, minute=59, second=59, microsecond=59) - midnight).seconds"
   ]
  },
  {
   "cell_type": "code",
   "execution_count": 72,
   "metadata": {
    "collapsed": false
   },
   "outputs": [
    {
     "data": {
      "text/plain": [
       "(159798, 159798, 159798, 159798)"
      ]
     },
     "execution_count": 72,
     "metadata": {},
     "output_type": "execute_result"
    }
   ],
   "source": [
    "# compute elapsed days from the first sample\n",
    "head_date = datetime.strptime(df_lastfm_3m.iloc[0]['timestamp'], \"%Y-%m-%dT%H:%M:%SZ\")\n",
    "\n",
    "user_ids = []\n",
    "track_ids = []\n",
    "\n",
    "u_indices = []\n",
    "i_indices = []\n",
    "dts = []\n",
    "times = []\n",
    "\n",
    "for i, row in df_lastfm_3m.iterrows():\n",
    "    if row['userid'] not in user_ids:\n",
    "        user_ids.append(row['userid'])\n",
    "    u_index = user_ids.index(row['userid'])\n",
    "    u_indices.append(u_index)\n",
    "    \n",
    "    if row['track-id'] not in track_ids:\n",
    "        track_ids.append(row['track-id'])\n",
    "    i_index = track_ids.index(row['track-id'])\n",
    "    i_indices.append(i_index)\n",
    "    \n",
    "    date = datetime.strptime(row['timestamp'], \"%Y-%m-%dT%H:%M:%SZ\")\n",
    "    dt = (date - head_date).days\n",
    "    dts.append(dt)\n",
    "\n",
    "    # normalized time in a day [0.0, 1.0]\n",
    "    time = (date - midnight).seconds / float(max_sec)\n",
    "    times.append(time)\n",
    "    \n",
    "len(u_indices), len(i_indices), len(dts), len(times)"
   ]
  },
  {
   "cell_type": "code",
   "execution_count": 73,
   "metadata": {
    "collapsed": true
   },
   "outputs": [],
   "source": [
    "df_lastfm_3m['u_index'] = u_indices\n",
    "df_lastfm_3m['i_index'] = i_indices\n",
    "df_lastfm_3m['dt'] = dts\n",
    "df_lastfm_3m['time'] = times"
   ]
  },
  {
   "cell_type": "code",
   "execution_count": 74,
   "metadata": {
    "collapsed": false
   },
   "outputs": [
    {
     "data": {
      "text/html": [
       "<div>\n",
       "<table border=\"1\" class=\"dataframe\">\n",
       "  <thead>\n",
       "    <tr style=\"text-align: right;\">\n",
       "      <th></th>\n",
       "      <th>userid</th>\n",
       "      <th>timestamp</th>\n",
       "      <th>track-id</th>\n",
       "      <th>gender</th>\n",
       "      <th>age</th>\n",
       "      <th>country</th>\n",
       "      <th>u_index</th>\n",
       "      <th>i_index</th>\n",
       "      <th>dt</th>\n",
       "      <th>time</th>\n",
       "    </tr>\n",
       "  </thead>\n",
       "  <tbody>\n",
       "    <tr>\n",
       "      <th>0</th>\n",
       "      <td>user_000391</td>\n",
       "      <td>2005-02-14T00:00:07Z</td>\n",
       "      <td>6b4977f4-3c7a-492a-af61-1e877fa66f52</td>\n",
       "      <td>0.0</td>\n",
       "      <td>-1.358756e-15</td>\n",
       "      <td>Germany</td>\n",
       "      <td>0</td>\n",
       "      <td>0</td>\n",
       "      <td>0</td>\n",
       "      <td>0.000081</td>\n",
       "    </tr>\n",
       "    <tr>\n",
       "      <th>1</th>\n",
       "      <td>user_000871</td>\n",
       "      <td>2005-02-14T00:00:38Z</td>\n",
       "      <td>9ecc2ab3-7294-43ad-bdeb-f51388a7a6e0</td>\n",
       "      <td>1.0</td>\n",
       "      <td>-1.358756e-15</td>\n",
       "      <td>Argentina</td>\n",
       "      <td>1</td>\n",
       "      <td>1</td>\n",
       "      <td>0</td>\n",
       "      <td>0.000440</td>\n",
       "    </tr>\n",
       "    <tr>\n",
       "      <th>2</th>\n",
       "      <td>user_000709</td>\n",
       "      <td>2005-02-14T00:01:44Z</td>\n",
       "      <td>1d0f1ea5-0a92-4578-a7e7-3f2a7129da61</td>\n",
       "      <td>1.0</td>\n",
       "      <td>-1.358756e-15</td>\n",
       "      <td>Canada</td>\n",
       "      <td>2</td>\n",
       "      <td>2</td>\n",
       "      <td>0</td>\n",
       "      <td>0.001204</td>\n",
       "    </tr>\n",
       "    <tr>\n",
       "      <th>3</th>\n",
       "      <td>user_000285</td>\n",
       "      <td>2005-02-14T00:02:10Z</td>\n",
       "      <td>46909ba9-46c7-461e-a2ef-280eacd550e4</td>\n",
       "      <td>0.0</td>\n",
       "      <td>-1.612447e+00</td>\n",
       "      <td>United States</td>\n",
       "      <td>3</td>\n",
       "      <td>3</td>\n",
       "      <td>0</td>\n",
       "      <td>0.001505</td>\n",
       "    </tr>\n",
       "    <tr>\n",
       "      <th>4</th>\n",
       "      <td>user_000142</td>\n",
       "      <td>2005-02-14T00:02:40Z</td>\n",
       "      <td>14025355-94c2-4e9b-b63f-c16cab9e8086</td>\n",
       "      <td>1.0</td>\n",
       "      <td>-1.358756e-15</td>\n",
       "      <td>Norway</td>\n",
       "      <td>4</td>\n",
       "      <td>4</td>\n",
       "      <td>0</td>\n",
       "      <td>0.001852</td>\n",
       "    </tr>\n",
       "  </tbody>\n",
       "</table>\n",
       "</div>"
      ],
      "text/plain": [
       "        userid             timestamp                              track-id  \\\n",
       "0  user_000391  2005-02-14T00:00:07Z  6b4977f4-3c7a-492a-af61-1e877fa66f52   \n",
       "1  user_000871  2005-02-14T00:00:38Z  9ecc2ab3-7294-43ad-bdeb-f51388a7a6e0   \n",
       "2  user_000709  2005-02-14T00:01:44Z  1d0f1ea5-0a92-4578-a7e7-3f2a7129da61   \n",
       "3  user_000285  2005-02-14T00:02:10Z  46909ba9-46c7-461e-a2ef-280eacd550e4   \n",
       "4  user_000142  2005-02-14T00:02:40Z  14025355-94c2-4e9b-b63f-c16cab9e8086   \n",
       "\n",
       "   gender           age        country  u_index  i_index  dt      time  \n",
       "0     0.0 -1.358756e-15        Germany        0        0   0  0.000081  \n",
       "1     1.0 -1.358756e-15      Argentina        1        1   0  0.000440  \n",
       "2     1.0 -1.358756e-15         Canada        2        2   0  0.001204  \n",
       "3     0.0 -1.612447e+00  United States        3        3   0  0.001505  \n",
       "4     1.0 -1.358756e-15         Norway        4        4   0  0.001852  "
      ]
     },
     "execution_count": 74,
     "metadata": {},
     "output_type": "execute_result"
    }
   ],
   "source": [
    "df_lastfm_3m.head()"
   ]
  },
  {
   "cell_type": "code",
   "execution_count": 75,
   "metadata": {
    "collapsed": false
   },
   "outputs": [
    {
     "data": {
      "text/html": [
       "<div>\n",
       "<table border=\"1\" class=\"dataframe\">\n",
       "  <thead>\n",
       "    <tr style=\"text-align: right;\">\n",
       "      <th></th>\n",
       "      <th>userid</th>\n",
       "      <th>timestamp</th>\n",
       "      <th>track-id</th>\n",
       "      <th>gender</th>\n",
       "      <th>age</th>\n",
       "      <th>country</th>\n",
       "      <th>u_index</th>\n",
       "      <th>i_index</th>\n",
       "      <th>dt</th>\n",
       "      <th>time</th>\n",
       "    </tr>\n",
       "  </thead>\n",
       "  <tbody>\n",
       "    <tr>\n",
       "      <th>159793</th>\n",
       "      <td>user_000298</td>\n",
       "      <td>2005-05-14T23:57:15Z</td>\n",
       "      <td>3dc94d29-3f33-4032-8772-e599f081d085</td>\n",
       "      <td>1.0</td>\n",
       "      <td>2.998332e-01</td>\n",
       "      <td>Argentina</td>\n",
       "      <td>10</td>\n",
       "      <td>6855</td>\n",
       "      <td>89</td>\n",
       "      <td>0.998102</td>\n",
       "    </tr>\n",
       "    <tr>\n",
       "      <th>159794</th>\n",
       "      <td>user_000870</td>\n",
       "      <td>2005-05-14T23:58:42Z</td>\n",
       "      <td>e8ba000e-6304-473c-b6a7-49010b1433d7</td>\n",
       "      <td>1.0</td>\n",
       "      <td>-1.358756e-15</td>\n",
       "      <td>United Kingdom</td>\n",
       "      <td>36</td>\n",
       "      <td>51071</td>\n",
       "      <td>89</td>\n",
       "      <td>0.999109</td>\n",
       "    </tr>\n",
       "    <tr>\n",
       "      <th>159795</th>\n",
       "      <td>user_000293</td>\n",
       "      <td>2005-05-14T23:59:25Z</td>\n",
       "      <td>b83f61e2-a566-49cc-b8dd-9ad5a0caddb2</td>\n",
       "      <td>1.0</td>\n",
       "      <td>4.506848e+00</td>\n",
       "      <td>United Kingdom</td>\n",
       "      <td>29</td>\n",
       "      <td>13963</td>\n",
       "      <td>89</td>\n",
       "      <td>0.999606</td>\n",
       "    </tr>\n",
       "    <tr>\n",
       "      <th>159796</th>\n",
       "      <td>user_000298</td>\n",
       "      <td>2005-05-14T23:59:45Z</td>\n",
       "      <td>22ea4524-3dcb-44e6-a1bc-4edfd25ad988</td>\n",
       "      <td>1.0</td>\n",
       "      <td>2.998332e-01</td>\n",
       "      <td>Argentina</td>\n",
       "      <td>10</td>\n",
       "      <td>1564</td>\n",
       "      <td>89</td>\n",
       "      <td>0.999838</td>\n",
       "    </tr>\n",
       "    <tr>\n",
       "      <th>159797</th>\n",
       "      <td>user_000142</td>\n",
       "      <td>2005-05-14T23:59:51Z</td>\n",
       "      <td>c0d44a5d-f84b-4d4b-babc-0f3937ef6edb</td>\n",
       "      <td>1.0</td>\n",
       "      <td>-1.358756e-15</td>\n",
       "      <td>Norway</td>\n",
       "      <td>4</td>\n",
       "      <td>48519</td>\n",
       "      <td>89</td>\n",
       "      <td>0.999907</td>\n",
       "    </tr>\n",
       "  </tbody>\n",
       "</table>\n",
       "</div>"
      ],
      "text/plain": [
       "             userid             timestamp  \\\n",
       "159793  user_000298  2005-05-14T23:57:15Z   \n",
       "159794  user_000870  2005-05-14T23:58:42Z   \n",
       "159795  user_000293  2005-05-14T23:59:25Z   \n",
       "159796  user_000298  2005-05-14T23:59:45Z   \n",
       "159797  user_000142  2005-05-14T23:59:51Z   \n",
       "\n",
       "                                    track-id  gender           age  \\\n",
       "159793  3dc94d29-3f33-4032-8772-e599f081d085     1.0  2.998332e-01   \n",
       "159794  e8ba000e-6304-473c-b6a7-49010b1433d7     1.0 -1.358756e-15   \n",
       "159795  b83f61e2-a566-49cc-b8dd-9ad5a0caddb2     1.0  4.506848e+00   \n",
       "159796  22ea4524-3dcb-44e6-a1bc-4edfd25ad988     1.0  2.998332e-01   \n",
       "159797  c0d44a5d-f84b-4d4b-babc-0f3937ef6edb     1.0 -1.358756e-15   \n",
       "\n",
       "               country  u_index  i_index  dt      time  \n",
       "159793       Argentina       10     6855  89  0.998102  \n",
       "159794  United Kingdom       36    51071  89  0.999109  \n",
       "159795  United Kingdom       29    13963  89  0.999606  \n",
       "159796       Argentina       10     1564  89  0.999838  \n",
       "159797          Norway        4    48519  89  0.999907  "
      ]
     },
     "execution_count": 75,
     "metadata": {},
     "output_type": "execute_result"
    }
   ],
   "source": [
    "df_lastfm_3m.tail()"
   ]
  },
  {
   "cell_type": "markdown",
   "metadata": {},
   "source": [
    "Export the DataFrame into an intermediate TSV file."
   ]
  },
  {
   "cell_type": "code",
   "execution_count": 76,
   "metadata": {
    "collapsed": true
   },
   "outputs": [],
   "source": [
    "df_lastfm_3m.to_csv('lastfm.tsv', sep='\\t', index=False)"
   ]
  },
  {
   "cell_type": "code",
   "execution_count": null,
   "metadata": {
    "collapsed": true
   },
   "outputs": [],
   "source": []
  }
 ],
 "metadata": {
  "kernelspec": {
   "display_name": "Python 3",
   "language": "python",
   "name": "python3"
  },
  "language_info": {
   "codemirror_mode": {
    "name": "ipython",
    "version": 3
   },
   "file_extension": ".py",
   "mimetype": "text/x-python",
   "name": "python",
   "nbconvert_exporter": "python",
   "pygments_lexer": "ipython3",
   "version": "3.5.1"
  }
 },
 "nbformat": 4,
 "nbformat_minor": 0
}
